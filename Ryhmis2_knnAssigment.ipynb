{
 "cells": [
  {
   "cell_type": "markdown",
   "id": "eb2e3629",
   "metadata": {},
   "source": [
    "<b>Investigate the contents of the dataset and include a brief description of its variables.</b>"
   ]
  },
  {
   "cell_type": "code",
   "execution_count": 3,
   "id": "initial_id",
   "metadata": {
    "ExecuteTime": {
     "end_time": "2025-01-21T14:07:47.520374Z",
     "start_time": "2025-01-21T14:07:44.544555Z"
    }
   },
   "outputs": [
    {
     "name": "stdout",
     "output_type": "stream",
     "text": [
      "     radius1  texture1  perimeter1   area1  smoothness1  compactness1  \\\n",
      "0      17.99     10.38      122.80  1001.0      0.11840       0.27760   \n",
      "1      20.57     17.77      132.90  1326.0      0.08474       0.07864   \n",
      "2      19.69     21.25      130.00  1203.0      0.10960       0.15990   \n",
      "3      11.42     20.38       77.58   386.1      0.14250       0.28390   \n",
      "4      20.29     14.34      135.10  1297.0      0.10030       0.13280   \n",
      "..       ...       ...         ...     ...          ...           ...   \n",
      "564    21.56     22.39      142.00  1479.0      0.11100       0.11590   \n",
      "565    20.13     28.25      131.20  1261.0      0.09780       0.10340   \n",
      "566    16.60     28.08      108.30   858.1      0.08455       0.10230   \n",
      "567    20.60     29.33      140.10  1265.0      0.11780       0.27700   \n",
      "568     7.76     24.54       47.92   181.0      0.05263       0.04362   \n",
      "\n",
      "     concavity1  concave_points1  symmetry1  fractal_dimension1  ...  radius3  \\\n",
      "0       0.30010          0.14710     0.2419             0.07871  ...   25.380   \n",
      "1       0.08690          0.07017     0.1812             0.05667  ...   24.990   \n",
      "2       0.19740          0.12790     0.2069             0.05999  ...   23.570   \n",
      "3       0.24140          0.10520     0.2597             0.09744  ...   14.910   \n",
      "4       0.19800          0.10430     0.1809             0.05883  ...   22.540   \n",
      "..          ...              ...        ...                 ...  ...      ...   \n",
      "564     0.24390          0.13890     0.1726             0.05623  ...   25.450   \n",
      "565     0.14400          0.09791     0.1752             0.05533  ...   23.690   \n",
      "566     0.09251          0.05302     0.1590             0.05648  ...   18.980   \n",
      "567     0.35140          0.15200     0.2397             0.07016  ...   25.740   \n",
      "568     0.00000          0.00000     0.1587             0.05884  ...    9.456   \n",
      "\n",
      "     texture3  perimeter3   area3  smoothness3  compactness3  concavity3  \\\n",
      "0       17.33      184.60  2019.0      0.16220       0.66560      0.7119   \n",
      "1       23.41      158.80  1956.0      0.12380       0.18660      0.2416   \n",
      "2       25.53      152.50  1709.0      0.14440       0.42450      0.4504   \n",
      "3       26.50       98.87   567.7      0.20980       0.86630      0.6869   \n",
      "4       16.67      152.20  1575.0      0.13740       0.20500      0.4000   \n",
      "..        ...         ...     ...          ...           ...         ...   \n",
      "564     26.40      166.10  2027.0      0.14100       0.21130      0.4107   \n",
      "565     38.25      155.00  1731.0      0.11660       0.19220      0.3215   \n",
      "566     34.12      126.70  1124.0      0.11390       0.30940      0.3403   \n",
      "567     39.42      184.60  1821.0      0.16500       0.86810      0.9387   \n",
      "568     30.37       59.16   268.6      0.08996       0.06444      0.0000   \n",
      "\n",
      "     concave_points3  symmetry3  fractal_dimension3  \n",
      "0             0.2654     0.4601             0.11890  \n",
      "1             0.1860     0.2750             0.08902  \n",
      "2             0.2430     0.3613             0.08758  \n",
      "3             0.2575     0.6638             0.17300  \n",
      "4             0.1625     0.2364             0.07678  \n",
      "..               ...        ...                 ...  \n",
      "564           0.2216     0.2060             0.07115  \n",
      "565           0.1628     0.2572             0.06637  \n",
      "566           0.1418     0.2218             0.07820  \n",
      "567           0.2650     0.4087             0.12400  \n",
      "568           0.0000     0.2871             0.07039  \n",
      "\n",
      "[569 rows x 30 columns]\n",
      "    Diagnosis\n",
      "0           M\n",
      "1           M\n",
      "2           M\n",
      "3           M\n",
      "4           M\n",
      "..        ...\n",
      "564         M\n",
      "565         M\n",
      "566         M\n",
      "567         M\n",
      "568         B\n",
      "\n",
      "[569 rows x 1 columns]\n"
     ]
    }
   ],
   "source": [
    "import numpy as np\n",
    "from sklearn.metrics import accuracy_score\n",
    "from streamlit import columns\n",
    "from ucimlrepo import fetch_ucirepo\n",
    "import matplotlib.pyplot as plt\n",
    "import pandas as pd\n",
    "\n",
    "# fetch dataset\n",
    "breast_cancer_wisconsin_diagnostic = fetch_ucirepo(id=17)\n",
    "\n",
    "# data (as pandas dataframes)\n",
    "X = breast_cancer_wisconsin_diagnostic.data.features\n",
    "y = breast_cancer_wisconsin_diagnostic.data.targets\n",
    "features = pd.DataFrame(X)\n",
    "targets = pd.DataFrame(y)\n",
    "print(features)\n",
    "print(targets)\n",
    "# variable information\n",
    "#print(breast_cancer_wisconsin_diagnostic.variables)"
   ]
  },
  {
   "cell_type": "markdown",
   "id": "3209fb25",
   "metadata": {},
   "source": [
    "Mitä siinä on?"
   ]
  },
  {
   "cell_type": "markdown",
   "id": "bd7954362b2dc32c",
   "metadata": {},
   "source": [
    "<b>Apply standardization to the numerical values of the input variables."
   ]
  },
  {
   "cell_type": "code",
   "execution_count": 4,
   "id": "bf09a45a566fb984",
   "metadata": {
    "ExecuteTime": {
     "end_time": "2025-01-21T14:07:47.781009Z",
     "start_time": "2025-01-21T14:07:47.742286Z"
    }
   },
   "outputs": [
    {
     "name": "stdout",
     "output_type": "stream",
     "text": [
      "      radius1  texture1  perimeter1     area1  smoothness1  compactness1  \\\n",
      "0    1.097064 -2.073335    1.269934  0.984375     1.568466      3.283515   \n",
      "1    1.829821 -0.353632    1.685955  1.908708    -0.826962     -0.487072   \n",
      "2    1.579888  0.456187    1.566503  1.558884     0.942210      1.052926   \n",
      "3   -0.768909  0.253732   -0.592687 -0.764464     3.283553      3.402909   \n",
      "4    1.750297 -1.151816    1.776573  1.826229     0.280372      0.539340   \n",
      "..        ...       ...         ...       ...          ...           ...   \n",
      "564  2.110995  0.721473    2.060786  2.343856     1.041842      0.219060   \n",
      "565  1.704854  2.085134    1.615931  1.723842     0.102458     -0.017833   \n",
      "566  0.702284  2.045574    0.672676  0.577953    -0.840484     -0.038680   \n",
      "567  1.838341  2.336457    1.982524  1.735218     1.525767      3.272144   \n",
      "568 -1.808401  1.221792   -1.814389 -1.347789    -3.112085     -1.150752   \n",
      "\n",
      "     concavity1  concave_points1  symmetry1  fractal_dimension1  ...  \\\n",
      "0      2.652874         2.532475   2.217515            2.255747  ...   \n",
      "1     -0.023846         0.548144   0.001392           -0.868652  ...   \n",
      "2      1.363478         2.037231   0.939685           -0.398008  ...   \n",
      "3      1.915897         1.451707   2.867383            4.910919  ...   \n",
      "4      1.371011         1.428493  -0.009560           -0.562450  ...   \n",
      "..          ...              ...        ...                 ...  ...   \n",
      "564    1.947285         2.320965  -0.312589           -0.931027  ...   \n",
      "565    0.693043         1.263669  -0.217664           -1.058611  ...   \n",
      "566    0.046588         0.105777  -0.809117           -0.895587  ...   \n",
      "567    3.296944         2.658866   2.137194            1.043695  ...   \n",
      "568   -1.114873        -1.261820  -0.820070           -0.561032  ...   \n",
      "\n",
      "      radius3  texture3  perimeter3     area3  smoothness3  compactness3  \\\n",
      "0    1.886690 -1.359293    2.303601  2.001237     1.307686      2.616665   \n",
      "1    1.805927 -0.369203    1.535126  1.890489    -0.375612     -0.430444   \n",
      "2    1.511870 -0.023974    1.347475  1.456285     0.527407      1.082932   \n",
      "3   -0.281464  0.133984   -0.249939 -0.550021     3.394275      3.893397   \n",
      "4    1.298575 -1.466770    1.338539  1.220724     0.220556     -0.313395   \n",
      "..        ...       ...         ...       ...          ...           ...   \n",
      "564  1.901185  0.117700    1.752563  2.015301     0.378365     -0.273318   \n",
      "565  1.536720  2.047399    1.421940  1.494959    -0.691230     -0.394820   \n",
      "566  0.561361  1.374854    0.579001  0.427906    -0.809587      0.350735   \n",
      "567  1.961239  2.237926    2.303601  1.653171     1.430427      3.904848   \n",
      "568 -1.410893  0.764190   -1.432735 -1.075813    -1.859019     -1.207552   \n",
      "\n",
      "     concavity3  concave_points3  symmetry3  fractal_dimension3  \n",
      "0      2.109526         2.296076   2.750622            1.937015  \n",
      "1     -0.146749         1.087084  -0.243890            0.281190  \n",
      "2      0.854974         1.955000   1.152255            0.201391  \n",
      "3      1.989588         2.175786   6.046041            4.935010  \n",
      "4      0.613179         0.729259  -0.868353           -0.397100  \n",
      "..          ...              ...        ...                 ...  \n",
      "564    0.664512         1.629151  -1.360158           -0.709091  \n",
      "565    0.236573         0.733827  -0.531855           -0.973978  \n",
      "566    0.326767         0.414069  -1.104549           -0.318409  \n",
      "567    3.197605         2.289985   1.919083            2.219635  \n",
      "568   -1.305831        -1.745063  -0.048138           -0.751207  \n",
      "\n",
      "[569 rows x 30 columns]\n"
     ]
    }
   ],
   "source": [
    "from sklearn.preprocessing import StandardScaler\n",
    "\n",
    "scaler = StandardScaler()\n",
    "Features_scaled = pd.DataFrame(scaler.fit_transform(features), columns=features.columns)\n",
    "print(Features_scaled)"
   ]
  },
  {
   "cell_type": "markdown",
   "id": "5f9224ebbfee250f",
   "metadata": {},
   "source": [
    "Above we have the standardized data. The mean is 0 and the standard diviation has 68% of the data between 1 and -1. Now we will split the data into training and testing sets."
   ]
  },
  {
   "cell_type": "markdown",
   "id": "83ff6f27",
   "metadata": {},
   "source": [
    "<b>Extract part of the data for testing in accordance with the hold-out validation technique."
   ]
  },
  {
   "cell_type": "code",
   "execution_count": null,
   "id": "dea859591ed3dd2",
   "metadata": {
    "ExecuteTime": {
     "end_time": "2025-01-21T14:07:48.262347Z",
     "start_time": "2025-01-21T14:07:48.198408Z"
    }
   },
   "outputs": [],
   "source": [
    "from sklearn.neighbors import KNeighborsClassifier\n",
    "from sklearn.model_selection import train_test_split\n",
    "\n",
    "# Split the dataset into a training set and a testing set\n",
    "# 70% of the data will be used for training, 30% for testing\n",
    "Features_train, Features_test, targets_train, targets_test = train_test_split(Features_scaled, targets, test_size=0.3, random_state=126)"
   ]
  },
  {
   "cell_type": "markdown",
   "id": "69745a52",
   "metadata": {},
   "source": [
    "We have now separated the training and test data into their own datasets."
   ]
  },
  {
   "cell_type": "markdown",
   "id": "cb5325ef",
   "metadata": {},
   "source": [
    "<b>Train a binary classifier for predicting the cancer diagnosis (malignant / benign). Experiment with a few choices of the hyperparameter k, and report the findings."
   ]
  },
  {
   "cell_type": "code",
   "execution_count": 13,
   "id": "d5123786",
   "metadata": {},
   "outputs": [
    {
     "name": "stdout",
     "output_type": "stream",
     "text": [
      "Accuracy with n_neighbors=1: 0.953\n",
      "Accuracy with n_neighbors=2: 0.93\n",
      "Accuracy with n_neighbors=3: 0.959\n",
      "Accuracy with n_neighbors=4: 0.936\n",
      "Accuracy with n_neighbors=5: 0.953\n",
      "Accuracy with n_neighbors=6: 0.947\n",
      "Accuracy with n_neighbors=7: 0.953\n",
      "Accuracy with n_neighbors=8: 0.953\n",
      "Accuracy with n_neighbors=9: 0.953\n",
      "Accuracy with n_neighbors=10: 0.947\n"
     ]
    }
   ],
   "source": [
    "'''\n",
    "Train a binary classifier for predicting the cancer diagnosis (malignant / benign).\n",
    "Experiment with a few choices of the hyperparameter k, and report the findings.\n",
    "'''\n",
    "\n",
    "# Loop through different values of n_neighbors\n",
    "for n in range(1, 11):\n",
    "    # Train a KNN classifier\n",
    "    knn = KNeighborsClassifier(n_neighbors=n)\n",
    "    knn.fit(Features_train, targets_train.values.ravel())\n",
    "\n",
    "    # Predict the target values\n",
    "    targets_pred = knn.predict(Features_test)\n",
    "\n",
    "    # Calculate the accuracy of the classifier\n",
    "    accuracy = accuracy_score(targets_test, targets_pred)\n",
    "    print(f'Accuracy with n_neighbors={n}: {round(accuracy, 3)}')"
   ]
  },
  {
   "cell_type": "markdown",
   "id": "0774cce6",
   "metadata": {},
   "source": [
    "It looks like having 3 neigbours gives us best accuracy, so let's use that for the remainder of this assignment."
   ]
  },
  {
   "cell_type": "markdown",
   "id": "e47d4421",
   "metadata": {},
   "source": [
    "<b>Test the performance of the classifier and present the associated confusion matrix together with the most common evaluation metrics (accuracy, precision and recall).<b>"
   ]
  },
  {
   "cell_type": "markdown",
   "id": "02c7130d",
   "metadata": {},
   "source": []
  }
 ],
 "metadata": {
  "kernelspec": {
   "display_name": "base",
   "language": "python",
   "name": "python3"
  },
  "language_info": {
   "codemirror_mode": {
    "name": "ipython",
    "version": 3
   },
   "file_extension": ".py",
   "mimetype": "text/x-python",
   "name": "python",
   "nbconvert_exporter": "python",
   "pygments_lexer": "ipython3",
   "version": "3.12.7"
  }
 },
 "nbformat": 4,
 "nbformat_minor": 5
}
