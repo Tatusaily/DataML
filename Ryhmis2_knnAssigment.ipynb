{
 "cells": [
  {
   "cell_type": "code",
   "id": "initial_id",
   "metadata": {
    "ExecuteTime": {
     "end_time": "2025-01-21T14:07:47.520374Z",
     "start_time": "2025-01-21T14:07:44.544555Z"
    }
   },
   "source": [
    "from sklearn.metrics import accuracy_score\n",
    "from streamlit import columns\n",
    "from ucimlrepo import fetch_ucirepo\n",
    "import matplotlib.pyplot as plt\n",
    "import numpy as np\n",
    "import pandas as pd\n",
    "\n",
    "# fetch dataset\n",
    "breast_cancer_wisconsin_diagnostic = fetch_ucirepo(id=17)\n",
    "\n",
    "# data (as pandas dataframes)\n",
    "X = breast_cancer_wisconsin_diagnostic.data.features\n",
    "y = breast_cancer_wisconsin_diagnostic.data.targets\n",
    "features = pd.DataFrame(X)\n",
    "targets = pd.DataFrame(y)\n",
    "print(features)\n",
    "print(targets)\n",
    "# variable information\n",
    "#print(breast_cancer_wisconsin_diagnostic.variables)"
   ],
   "outputs": [
    {
     "name": "stdout",
     "output_type": "stream",
     "text": [
      "     radius1  texture1  perimeter1   area1  smoothness1  compactness1  \\\n",
      "0      17.99     10.38      122.80  1001.0      0.11840       0.27760   \n",
      "1      20.57     17.77      132.90  1326.0      0.08474       0.07864   \n",
      "2      19.69     21.25      130.00  1203.0      0.10960       0.15990   \n",
      "3      11.42     20.38       77.58   386.1      0.14250       0.28390   \n",
      "4      20.29     14.34      135.10  1297.0      0.10030       0.13280   \n",
      "..       ...       ...         ...     ...          ...           ...   \n",
      "564    21.56     22.39      142.00  1479.0      0.11100       0.11590   \n",
      "565    20.13     28.25      131.20  1261.0      0.09780       0.10340   \n",
      "566    16.60     28.08      108.30   858.1      0.08455       0.10230   \n",
      "567    20.60     29.33      140.10  1265.0      0.11780       0.27700   \n",
      "568     7.76     24.54       47.92   181.0      0.05263       0.04362   \n",
      "\n",
      "     concavity1  concave_points1  symmetry1  fractal_dimension1  ...  radius3  \\\n",
      "0       0.30010          0.14710     0.2419             0.07871  ...   25.380   \n",
      "1       0.08690          0.07017     0.1812             0.05667  ...   24.990   \n",
      "2       0.19740          0.12790     0.2069             0.05999  ...   23.570   \n",
      "3       0.24140          0.10520     0.2597             0.09744  ...   14.910   \n",
      "4       0.19800          0.10430     0.1809             0.05883  ...   22.540   \n",
      "..          ...              ...        ...                 ...  ...      ...   \n",
      "564     0.24390          0.13890     0.1726             0.05623  ...   25.450   \n",
      "565     0.14400          0.09791     0.1752             0.05533  ...   23.690   \n",
      "566     0.09251          0.05302     0.1590             0.05648  ...   18.980   \n",
      "567     0.35140          0.15200     0.2397             0.07016  ...   25.740   \n",
      "568     0.00000          0.00000     0.1587             0.05884  ...    9.456   \n",
      "\n",
      "     texture3  perimeter3   area3  smoothness3  compactness3  concavity3  \\\n",
      "0       17.33      184.60  2019.0      0.16220       0.66560      0.7119   \n",
      "1       23.41      158.80  1956.0      0.12380       0.18660      0.2416   \n",
      "2       25.53      152.50  1709.0      0.14440       0.42450      0.4504   \n",
      "3       26.50       98.87   567.7      0.20980       0.86630      0.6869   \n",
      "4       16.67      152.20  1575.0      0.13740       0.20500      0.4000   \n",
      "..        ...         ...     ...          ...           ...         ...   \n",
      "564     26.40      166.10  2027.0      0.14100       0.21130      0.4107   \n",
      "565     38.25      155.00  1731.0      0.11660       0.19220      0.3215   \n",
      "566     34.12      126.70  1124.0      0.11390       0.30940      0.3403   \n",
      "567     39.42      184.60  1821.0      0.16500       0.86810      0.9387   \n",
      "568     30.37       59.16   268.6      0.08996       0.06444      0.0000   \n",
      "\n",
      "     concave_points3  symmetry3  fractal_dimension3  \n",
      "0             0.2654     0.4601             0.11890  \n",
      "1             0.1860     0.2750             0.08902  \n",
      "2             0.2430     0.3613             0.08758  \n",
      "3             0.2575     0.6638             0.17300  \n",
      "4             0.1625     0.2364             0.07678  \n",
      "..               ...        ...                 ...  \n",
      "564           0.2216     0.2060             0.07115  \n",
      "565           0.1628     0.2572             0.06637  \n",
      "566           0.1418     0.2218             0.07820  \n",
      "567           0.2650     0.4087             0.12400  \n",
      "568           0.0000     0.2871             0.07039  \n",
      "\n",
      "[569 rows x 30 columns]\n",
      "    Diagnosis\n",
      "0           M\n",
      "1           M\n",
      "2           M\n",
      "3           M\n",
      "4           M\n",
      "..        ...\n",
      "564         M\n",
      "565         M\n",
      "566         M\n",
      "567         M\n",
      "568         B\n",
      "\n",
      "[569 rows x 1 columns]\n"
     ]
    }
   ],
   "execution_count": 68
  },
  {
   "metadata": {},
   "cell_type": "markdown",
   "source": "Apply standardization to the numerical values of the input variables.",
   "id": "bd7954362b2dc32c"
  },
  {
   "metadata": {
    "ExecuteTime": {
     "end_time": "2025-01-21T14:07:47.781009Z",
     "start_time": "2025-01-21T14:07:47.742286Z"
    }
   },
   "cell_type": "code",
   "source": [
    "from sklearn.preprocessing import StandardScaler\n",
    "\n",
    "scaler = StandardScaler()\n",
    "Features_scaled = pd.DataFrame(scaler.fit_transform(features), columns=features.columns)\n",
    "print(Features_scaled)"
   ],
   "id": "bf09a45a566fb984",
   "outputs": [
    {
     "name": "stdout",
     "output_type": "stream",
     "text": [
      "      radius1  texture1  perimeter1     area1  smoothness1  compactness1  \\\n",
      "0    1.097064 -2.073335    1.269934  0.984375     1.568466      3.283515   \n",
      "1    1.829821 -0.353632    1.685955  1.908708    -0.826962     -0.487072   \n",
      "2    1.579888  0.456187    1.566503  1.558884     0.942210      1.052926   \n",
      "3   -0.768909  0.253732   -0.592687 -0.764464     3.283553      3.402909   \n",
      "4    1.750297 -1.151816    1.776573  1.826229     0.280372      0.539340   \n",
      "..        ...       ...         ...       ...          ...           ...   \n",
      "564  2.110995  0.721473    2.060786  2.343856     1.041842      0.219060   \n",
      "565  1.704854  2.085134    1.615931  1.723842     0.102458     -0.017833   \n",
      "566  0.702284  2.045574    0.672676  0.577953    -0.840484     -0.038680   \n",
      "567  1.838341  2.336457    1.982524  1.735218     1.525767      3.272144   \n",
      "568 -1.808401  1.221792   -1.814389 -1.347789    -3.112085     -1.150752   \n",
      "\n",
      "     concavity1  concave_points1  symmetry1  fractal_dimension1  ...  \\\n",
      "0      2.652874         2.532475   2.217515            2.255747  ...   \n",
      "1     -0.023846         0.548144   0.001392           -0.868652  ...   \n",
      "2      1.363478         2.037231   0.939685           -0.398008  ...   \n",
      "3      1.915897         1.451707   2.867383            4.910919  ...   \n",
      "4      1.371011         1.428493  -0.009560           -0.562450  ...   \n",
      "..          ...              ...        ...                 ...  ...   \n",
      "564    1.947285         2.320965  -0.312589           -0.931027  ...   \n",
      "565    0.693043         1.263669  -0.217664           -1.058611  ...   \n",
      "566    0.046588         0.105777  -0.809117           -0.895587  ...   \n",
      "567    3.296944         2.658866   2.137194            1.043695  ...   \n",
      "568   -1.114873        -1.261820  -0.820070           -0.561032  ...   \n",
      "\n",
      "      radius3  texture3  perimeter3     area3  smoothness3  compactness3  \\\n",
      "0    1.886690 -1.359293    2.303601  2.001237     1.307686      2.616665   \n",
      "1    1.805927 -0.369203    1.535126  1.890489    -0.375612     -0.430444   \n",
      "2    1.511870 -0.023974    1.347475  1.456285     0.527407      1.082932   \n",
      "3   -0.281464  0.133984   -0.249939 -0.550021     3.394275      3.893397   \n",
      "4    1.298575 -1.466770    1.338539  1.220724     0.220556     -0.313395   \n",
      "..        ...       ...         ...       ...          ...           ...   \n",
      "564  1.901185  0.117700    1.752563  2.015301     0.378365     -0.273318   \n",
      "565  1.536720  2.047399    1.421940  1.494959    -0.691230     -0.394820   \n",
      "566  0.561361  1.374854    0.579001  0.427906    -0.809587      0.350735   \n",
      "567  1.961239  2.237926    2.303601  1.653171     1.430427      3.904848   \n",
      "568 -1.410893  0.764190   -1.432735 -1.075813    -1.859019     -1.207552   \n",
      "\n",
      "     concavity3  concave_points3  symmetry3  fractal_dimension3  \n",
      "0      2.109526         2.296076   2.750622            1.937015  \n",
      "1     -0.146749         1.087084  -0.243890            0.281190  \n",
      "2      0.854974         1.955000   1.152255            0.201391  \n",
      "3      1.989588         2.175786   6.046041            4.935010  \n",
      "4      0.613179         0.729259  -0.868353           -0.397100  \n",
      "..          ...              ...        ...                 ...  \n",
      "564    0.664512         1.629151  -1.360158           -0.709091  \n",
      "565    0.236573         0.733827  -0.531855           -0.973978  \n",
      "566    0.326767         0.414069  -1.104549           -0.318409  \n",
      "567    3.197605         2.289985   1.919083            2.219635  \n",
      "568   -1.305831        -1.745063  -0.048138           -0.751207  \n",
      "\n",
      "[569 rows x 30 columns]\n"
     ]
    }
   ],
   "execution_count": 69
  },
  {
   "metadata": {},
   "cell_type": "markdown",
   "source": "Above we have the standardized data. The mean is 0 and the standard diviation has 68% of the data between 1 and -1. Now we will split the data into training and testing sets.",
   "id": "5f9224ebbfee250f"
  },
  {
   "metadata": {
    "ExecuteTime": {
     "end_time": "2025-01-21T14:07:48.262347Z",
     "start_time": "2025-01-21T14:07:48.198408Z"
    }
   },
   "cell_type": "code",
   "source": [
    "from sklearn.neighbors import KNeighborsClassifier\n",
    "from sklearn.model_selection import train_test_split\n",
    "\n",
    "# Split the dataset into a training set and a testing set\n",
    "# 70% of the data will be used for training, 30% for testing\n",
    "Features_train, Features_test, targets_train, targets_test = train_test_split(Features_scaled, targets, test_size=0.3, random_state=126)\n",
    "\n",
    "# Create a kNN classifier\n",
    "# n_neighbors parameter specifies the number of neighbors to use (k)\n",
    "knn = KNeighborsClassifier(n_neighbors=3)\n",
    "\n",
    "# Train the kNN classifier on the training data\n",
    "knn.fit(Features_train, targets_train)\n",
    "\n",
    "# Use the trained classifier to predict labels for the test set\n",
    "targets_pred = knn.predict(Features_test)\n",
    "\n",
    "# Calculate and print the accuracy of the classifier on the test set\n",
    "accuracy_test = accuracy_score(targets_test, targets_pred)\n",
    "print(f\"Accuracy of kNN classifier on the test set: {accuracy_test:.2f}\")"
   ],
   "id": "dea859591ed3dd2",
   "outputs": [
    {
     "name": "stdout",
     "output_type": "stream",
     "text": [
      "Accuracy of kNN classifier on the test set: 0.96\n"
     ]
    },
    {
     "name": "stderr",
     "output_type": "stream",
     "text": [
      "C:\\Users\\aarni\\anaconda3\\Lib\\site-packages\\sklearn\\neighbors\\_classification.py:239: DataConversionWarning: A column-vector y was passed when a 1d array was expected. Please change the shape of y to (n_samples,), for example using ravel().\n",
      "  return self._fit(X, y)\n"
     ]
    }
   ],
   "execution_count": 70
  },
  {
   "metadata": {
    "ExecuteTime": {
     "end_time": "2025-01-21T14:07:48.701338Z",
     "start_time": "2025-01-21T14:07:48.695646Z"
    }
   },
   "cell_type": "code",
   "source": "",
   "id": "91258cb0a552119b",
   "outputs": [],
   "execution_count": null
  }
 ],
 "metadata": {
  "kernelspec": {
   "display_name": "Python [conda env:base] *",
   "language": "python",
   "name": "conda-base-py"
  },
  "language_info": {
   "codemirror_mode": {
    "name": "ipython",
    "version": 3
   },
   "file_extension": ".py",
   "mimetype": "text/x-python",
   "name": "python",
   "nbconvert_exporter": "python",
   "pygments_lexer": "ipython3",
   "version": "3.12.7"
  }
 },
 "nbformat": 4,
 "nbformat_minor": 5
}
