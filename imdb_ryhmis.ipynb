{
 "cells": [
  {
   "cell_type": "markdown",
   "metadata": {},
   "source": [
    "# Vaihe 1\n",
    "\n",
    "### Kiinnostavat tutkimuskysymykset\n",
    "1. Mitkä genret ovat olleet suosittuja milloin?\n",
    "2. Mikä näyttelijöiden yhdistelmä tuottaa suosittuja elokuvia?\n",
    "3. Korrelaatio arvioiden ja tuoton välillä. Voiko elokuva olla huonosti arvioitu mutta silti tuottoisa tai toisin päin?\n",
    "4. Jos tekisimme elokuvan, millainen sen kannattaa olla, että se on tuottoisa ja suosittu?"
   ]
  },
  {
   "cell_type": "markdown",
   "metadata": {},
   "source": [
    "# Vaihe 2\n",
    "\n",
    "### Aineiston kuvaus\n",
    "Aineisto löydettiin Kagglesta ja se sisältää tietoa tuhannesta parhaiten arvioidusta elokuvasta ja TV -sarjasta IMDB palvelussa.\n",
    "\n",
    "Linkki aineistoon: [LINKKI](https://www.kaggle.com/datasets/ashpalsingh1525/imdb-movies-dataset)\n"
   ]
  },
  {
   "cell_type": "code",
   "execution_count": 8,
   "metadata": {},
   "outputs": [
    {
     "name": "stdout",
     "output_type": "stream",
     "text": [
      "Aineiston otsikot:\n",
      "Index(['names', 'date_x', 'score', 'genre', 'overview', 'crew', 'orig_title',\n",
      "       'status', 'orig_lang', 'budget_x', 'revenue', 'country'],\n",
      "      dtype='object')\n",
      "(10178, 12)\n"
     ]
    }
   ],
   "source": [
    "import numpy as np\n",
    "import pandas as pd\n",
    "\n",
    "dataset = pd.read_csv('Datasets/imdb_movies.csv')\n",
    "\n",
    "# TODO: Fixaa tää silleen et selitetään otsikoiden tarkoitus\n",
    "# Print dataframe columns\n",
    "print(\"Aineiston otsikot:\")\n",
    "print(dataset.columns)\n",
    "print(dataset.shape)\n"
   ]
  },
  {
   "cell_type": "markdown",
   "metadata": {},
   "source": [
    "Aineiston otsikot:\n",
    "\n",
    "TODO: Lisää selitys otiskoista Crew Members otsikko on tosi outo, se pitää selittää jotenkin\n",
    "\n",
    "\n",
    "Aineistossa on siis 12 otsikkoa ja 10178 havaintoa.\n",
    "\n"
   ]
  },
  {
   "cell_type": "markdown",
   "metadata": {},
   "source": [
    "# Vaihe 3\n",
    "## Aineiston esikäsittely"
   ]
  },
  {
   "cell_type": "markdown",
   "metadata": {},
   "source": [
    "#### Tyhjien havaintojen poisto"
   ]
  },
  {
   "cell_type": "code",
   "execution_count": 10,
   "metadata": {},
   "outputs": [],
   "source": [
    "# Tässä poistetaan ne havainnot joissa on tyhjiä arvoja tai arvostelu on 0.0"
   ]
  },
  {
   "cell_type": "markdown",
   "metadata": {},
   "source": [
    "#### Avataan näyttelijät"
   ]
  },
  {
   "cell_type": "code",
   "execution_count": 9,
   "metadata": {},
   "outputs": [],
   "source": [
    "# Tässä avataan näyttelijät"
   ]
  },
  {
   "cell_type": "markdown",
   "metadata": {},
   "source": [
    "# Vaihe 4\n",
    "### Aineiston analysointi"
   ]
  },
  {
   "cell_type": "code",
   "execution_count": 12,
   "metadata": {},
   "outputs": [],
   "source": [
    "#  JOKAISESSA ANALYSOINTIKOHDASSA TEHDÄÄN AINEISTOSTA KOPIO, ETTEI MYÖHEMMÄT KOHDAT MUUTU"
   ]
  },
  {
   "cell_type": "markdown",
   "metadata": {},
   "source": [
    "#### Mitkä genret ovat suosittuja milloin"
   ]
  },
  {
   "cell_type": "code",
   "execution_count": 11,
   "metadata": {},
   "outputs": [],
   "source": [
    "# Tässä koodiblokki\n"
   ]
  },
  {
   "cell_type": "markdown",
   "metadata": {},
   "source": [
    "#### Mikä näyttelijöiden yhdistelmä tuottaa suosittuja elokuvia?"
   ]
  },
  {
   "cell_type": "code",
   "execution_count": null,
   "metadata": {},
   "outputs": [],
   "source": []
  },
  {
   "cell_type": "markdown",
   "metadata": {},
   "source": [
    "#### Korrelaatio arvioiden ja tuoton välillä. Voiko elokuva olla huonosti arvioitu mutta silti tuottoisa tai toisin päin?"
   ]
  },
  {
   "cell_type": "code",
   "execution_count": null,
   "metadata": {},
   "outputs": [],
   "source": []
  },
  {
   "cell_type": "markdown",
   "metadata": {},
   "source": [
    "#### Jos tekisimme elokuvan, millainen sen kannattaa olla, että se on tuottoisa ja suosittu?"
   ]
  },
  {
   "cell_type": "code",
   "execution_count": null,
   "metadata": {},
   "outputs": [],
   "source": []
  }
 ],
 "metadata": {
  "kernelspec": {
   "display_name": "base",
   "language": "python",
   "name": "python3"
  },
  "language_info": {
   "codemirror_mode": {
    "name": "ipython",
    "version": 3
   },
   "file_extension": ".py",
   "mimetype": "text/x-python",
   "name": "python",
   "nbconvert_exporter": "python",
   "pygments_lexer": "ipython3",
   "version": "3.12.3"
  }
 },
 "nbformat": 4,
 "nbformat_minor": 2
}
