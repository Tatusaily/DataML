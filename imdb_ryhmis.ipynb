{
 "cells": [
  {
   "cell_type": "markdown",
   "metadata": {},
   "source": [
    "# Vaihe 1\n",
    "\n",
    "### Kiinnostavat tutkimuskysymykset\n",
    "1. Mitkä genret ovat olleet suosittuja milloin?\n",
    "2. Mikä näyttelijöiden yhdistelmä tuottaa suosittuja elokuvia?\n",
    "3. Korrelaatio arvioiden ja tuoton välillä. Voiko elokuva olla huonosti arvioitu mutta silti tuottoisa tai toisin päin?\n",
    "4. Jos tekisimme elokuvan, millainen sen kannattaa olla, että se on tuottoisa ja suosittu?"
   ]
  },
  {
   "cell_type": "markdown",
   "metadata": {},
   "source": [
    "# Vaihe 2\n",
    "\n",
    "### Aineiston kuvaus\n",
    "Aineisto löydettiin Kagglesta ja se sisältää tietoa tuhannesta parhaiten arvioidusta elokuvasta ja TV -sarjasta IMDB palvelussa.\n",
    "\n",
    "Linkki aineistoon: [LINKKI](https://www.kaggle.com/datasets/ashpalsingh1525/imdb-movies-dataset)\n"
   ]
  },
  {
   "cell_type": "code",
   "execution_count": 60,
   "metadata": {},
   "outputs": [
    {
     "name": "stdout",
     "output_type": "stream",
     "text": [
      "Aineiston otsikot:\n",
      "Index(['names', 'date_x', 'score', 'genre', 'overview', 'crew', 'orig_title',\n",
      "       'status', 'orig_lang', 'budget_x', 'revenue', 'country'],\n",
      "      dtype='object')\n",
      "(10178, 12)\n"
     ]
    }
   ],
   "source": [
    "import numpy as np\n",
    "import pandas as pd\n",
    "# set display options\n",
    "pd.set_option('display.max_colwidth', None)\n",
    "\n",
    "dataset = pd.read_csv('Datasets/imdb_movies.csv')\n",
    "\n",
    "# TODO: Fixaa tää silleen et selitetään otsikoiden tarkoitus\n",
    "# Print dataframe columns\n",
    "print(\"Aineiston otsikot:\")\n",
    "print(dataset.columns)\n",
    "print(dataset.shape)\n"
   ]
  },
  {
   "cell_type": "markdown",
   "metadata": {},
   "source": [
    "Aineiston otsikot:\n",
    "\n",
    "TODO: Lisää selitys otiskoista Crew Members otsikko on tosi outo, se pitää selittää jotenkin\n",
    "\n",
    "\n",
    "Aineistossa on siis 12 otsikkoa ja 10178 havaintoa.\n",
    "\n",
    "\n",
    "Osa aineiston datasta on epäilyttävää. Esimerkiksi 144 elokuvista on saanut 0.0 arvostelun, ja niiden kaikkien tuotto on tasan $175,269,998.80\n",
    "\n",
    "Aineiston julkaisija on ilmeisesti käyttänyt jotain knn keinoa aineiston täyttämiseen. Tämä täytyy ottaa huomioon myöhemmin.\n",
    "\n"
   ]
  },
  {
   "cell_type": "markdown",
   "metadata": {},
   "source": [
    "# Vaihe 3\n",
    "## Aineiston esikäsittely"
   ]
  },
  {
   "cell_type": "markdown",
   "metadata": {},
   "source": [
    "#### Tyhjien havaintojen poisto"
   ]
  },
  {
   "cell_type": "code",
   "execution_count": null,
   "metadata": {},
   "outputs": [
    {
     "name": "stdout",
     "output_type": "stream",
     "text": [
      "(9889, 12)\n"
     ]
    }
   ],
   "source": [
    "# Tässä poistetaan ne havainnot joissa on tyhjiä arvoja tai arvostelu on 0.0\n",
    "dataset = dataset.dropna()\n",
    "dataset = dataset[dataset['score'] != 0.0]\n",
    "print(dataset.shape)\n",
    "\n",
    "# Poistetaan elokuvat, jotka ei ole julkaistu\n",
    "dataset = dataset['status'] = \"Released\""
   ]
  },
  {
   "cell_type": "markdown",
   "metadata": {},
   "source": [
    "Aineistosta poistettiin 289 havaintoa"
   ]
  },
  {
   "cell_type": "markdown",
   "metadata": {},
   "source": [
    "#### Avataan näyttelijät"
   ]
  },
  {
   "cell_type": "code",
   "execution_count": 62,
   "metadata": {},
   "outputs": [
    {
     "name": "stdout",
     "output_type": "stream",
     "text": [
      "Aineiston näyttelijät:\n",
      "0    Michael B. Jordan, Adonis Creed, Tessa Thompson, Bianca Taylor, Jonathan Majors, Damien Anderson, Wood Harris, Tony 'Little Duke' Evers, Phylicia Rashād, Mary Anne Creed, Mila Davis-Kent, Amara Creed, Florian Munteanu, Viktor Drago, José Benavidez Jr., Felix Chavez, Selenis Leyva, Laura Chavez\n",
      "Name: crew, dtype: object\n"
     ]
    }
   ],
   "source": [
    "print(\"Aineiston näyttelijät:\")\n",
    "print(dataset['crew'].head(1))"
   ]
  },
  {
   "cell_type": "code",
   "execution_count": 63,
   "metadata": {},
   "outputs": [
    {
     "name": "stdout",
     "output_type": "stream",
     "text": [
      "1. elokuvan näyttelijät:\n",
      "       names       date_x  score          genre  \\\n",
      "0  Creed III  03/02/2023    73.0  Drama, Action   \n",
      "\n",
      "                                                                                                                                                                                                                                                                                                                                                                                                                                                                     overview  \\\n",
      "0  After dominating the boxing world, Adonis Creed has been thriving in both his career and family life. When a childhood friend and former boxing prodigy, Damien Anderson, resurfaces after serving a long sentence in prison, he is eager to prove that he deserves his shot in the ring. The face-off between former friends is more than just a fight. To settle the score, Adonis must put his future on the line to battle Damien — a fighter who has nothing to lose.   \n",
      "\n",
      "                                                                                                                                                       crew  \\\n",
      "0  [Michael B. Jordan, Tessa Thompson, Jonathan Majors, Wood Harris, Phylicia Rashād, Mila Davis-Kent, Florian Munteanu, José Benavidez Jr., Selenis Leyva]   \n",
      "\n",
      "  orig_title     status orig_lang    budget_x      revenue country  \n",
      "0  Creed III   Released   English  75000000.0  271616668.0      AU  \n"
     ]
    }
   ],
   "source": [
    "# Tässä avataan näyttelijät. Näyttelijän hahmo on listattu näyttelijän jälkeen. (esim. Tom Cruise, Ethan Hunt, ...)\n",
    "dataset['crew'] = dataset['crew'].str.split(', ')\n",
    "# Poista joka toinen alkio\n",
    "dataset['crew'] = dataset['crew'].apply(lambda x: x[::2])\n",
    "print(\"1. elokuvan näyttelijät:\")\n",
    "print(dataset.head(1))"
   ]
  },
  {
   "cell_type": "markdown",
   "metadata": {},
   "source": [
    "# Vaihe 4\n",
    "### Aineiston analysointi"
   ]
  },
  {
   "cell_type": "code",
   "execution_count": 64,
   "metadata": {},
   "outputs": [],
   "source": [
    "#  JOKAISESSA ANALYSOINTIKOHDASSA TEHDÄÄN AINEISTOSTA KOPIO, ETTEI MYÖHEMMÄT KOHDAT MUUTU"
   ]
  },
  {
   "cell_type": "markdown",
   "metadata": {},
   "source": [
    "#### Mitkä genret ovat suosittuja milloin"
   ]
  },
  {
   "cell_type": "code",
   "execution_count": null,
   "metadata": {},
   "outputs": [],
   "source": []
  },
  {
   "cell_type": "markdown",
   "metadata": {},
   "source": [
    "#### Mikä näyttelijöiden yhdistelmä tuottaa suosittuja elokuvia?"
   ]
  },
  {
   "cell_type": "code",
   "execution_count": null,
   "metadata": {},
   "outputs": [],
   "source": []
  },
  {
   "cell_type": "markdown",
   "metadata": {},
   "source": [
    "#### Korrelaatio arvioiden ja tuoton välillä. Voiko elokuva olla huonosti arvioitu mutta silti tuottoisa tai toisin päin?"
   ]
  },
  {
   "cell_type": "code",
   "execution_count": null,
   "metadata": {},
   "outputs": [],
   "source": []
  },
  {
   "cell_type": "markdown",
   "metadata": {},
   "source": [
    "#### Jos tekisimme elokuvan, millainen sen kannattaa olla, että se on tuottoisa ja suosittu?"
   ]
  },
  {
   "cell_type": "code",
   "execution_count": null,
   "metadata": {},
   "outputs": [],
   "source": []
  },
  {
   "cell_type": "markdown",
   "metadata": {},
   "source": [
    "# Vaihe 5\n",
    "### Analyysin tulkinta"
   ]
  },
  {
   "cell_type": "markdown",
   "metadata": {},
   "source": [
    "# Vaihe 6\n",
    "### Tulosten hyödyntäminen"
   ]
  },
  {
   "cell_type": "markdown",
   "metadata": {},
   "source": []
  }
 ],
 "metadata": {
  "kernelspec": {
   "display_name": "base",
   "language": "python",
   "name": "python3"
  },
  "language_info": {
   "codemirror_mode": {
    "name": "ipython",
    "version": 3
   },
   "file_extension": ".py",
   "mimetype": "text/x-python",
   "name": "python",
   "nbconvert_exporter": "python",
   "pygments_lexer": "ipython3",
   "version": "3.12.3"
  }
 },
 "nbformat": 4,
 "nbformat_minor": 2
}
