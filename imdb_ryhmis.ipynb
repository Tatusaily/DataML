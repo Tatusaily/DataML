{
 "cells": [
  {
   "cell_type": "markdown",
   "metadata": {},
   "source": [
    "# Vaihe 1\n",
    "\n",
    "### Kiinnostavat tutkimuskysymykset\n",
    "1. Mitkä genret ovat olleet suosittuja milloin?\n",
    "2. Mikä näyttelijöiden yhdistelmä tuottaa suosittuja elokuvia?\n",
    "3. Korrelaatio arvioiden ja tuoton välillä. Voiko elokuva olla huonosti arvioitu mutta silti tuottoisa tai toisin päin?\n",
    "4. Jos tekisimme elokuvan, millainen sen kannattaa olla, että se on tuottoisa ja suosittu?"
   ]
  },
  {
   "cell_type": "markdown",
   "metadata": {},
   "source": [
    "# Vaihe 2\n",
    "\n",
    "### Aineiston kuvaus\n",
    "Aineisto löydettiin Kagglesta ja se sisältää tietoa elokuvista IMDB palvelussa.\n",
    "\n",
    "Linkki aineistoon: [LINKKI](https://www.kaggle.com/datasets/ashpalsingh1525/imdb-movies-dataset)\n"
   ]
  },
  {
   "cell_type": "code",
   "execution_count": 8,
   "metadata": {
    "ExecuteTime": {
     "end_time": "2025-03-02T13:48:51.692649Z",
     "start_time": "2025-03-02T13:48:51.187004Z"
    }
   },
   "outputs": [
    {
     "name": "stdout",
     "output_type": "stream",
     "text": [
      "Aineiston otsikot:\n",
      "Index(['names', 'date_x', 'score', 'genre', 'overview', 'crew', 'orig_title',\n",
      "       'status', 'orig_lang', 'budget_x', 'revenue', 'country'],\n",
      "      dtype='object')\n",
      "Otsikoiden tyypit:\n",
      "names          object\n",
      "date_x         object\n",
      "score         float64\n",
      "genre          object\n",
      "overview       object\n",
      "crew           object\n",
      "orig_title     object\n",
      "status         object\n",
      "orig_lang      object\n",
      "budget_x      float64\n",
      "revenue       float64\n",
      "country        object\n",
      "dtype: object\n",
      "Aineiston muoto:\n",
      "(10178, 12)\n"
     ]
    }
   ],
   "source": [
    "import numpy as np\n",
    "import matplotlib.pyplot as plt\n",
    "import pandas as pd\n",
    "# set display options\n",
    "pd.set_option('display.max_colwidth', None)\n",
    "\n",
    "dataset = pd.read_csv('Datasets/imdb_movies.csv')\n",
    "\n",
    "# TODO: Fixaa tää silleen et selitetään otsikoiden tarkoitus\n",
    "# Print dataframe columns\n",
    "print(\"Aineiston otsikot:\")\n",
    "print(dataset.columns)\n",
    "print(\"Otsikoiden tyypit:\")\n",
    "print(dataset.dtypes)\n",
    "print(\"Aineiston muoto:\")\n",
    "print(dataset.shape)\n",
    "amount_of_rows_pre = dataset.shape[0]\n"
   ]
  },
  {
   "cell_type": "markdown",
   "metadata": {},
   "source": [
    "#### Aineiston otsikot:\n",
    "- names:        Elokuvan nimi englanniksi\n",
    "- date_x:       Elokuvan julkaisupäivämäärä\n",
    "- score:        IMDB-käyttäjien antaman pistemäärän keskiarvo \n",
    "- genre:        Elokuvan genre\n",
    "- overview:     Elokuvan kuvaus englanniksi\n",
    "- crew:         Elokuvan näyttelijät ja heidän esittämät hahmot. esim. (näyttelijä, hahmo, näyttelijä, hahmo)\n",
    "- orig_title:   Elokuvan nimi alkuperäisellä kielellä\n",
    "- status:       Elokuvan tilanne. (Kaikki havainnot ovat julkaistu)\n",
    "- orig_lang:    Elokuvan alkuperäiskieli\n",
    "- budget_x:     Elokuvan budjetti (USD)\n",
    "- revenue:      Elokuvan bruttotuotto (USD)\n",
    "- country:      Elokuvan julkaisumaa\n",
    "\n",
    "Aineistossa on siis 12 otsikkoa ja 10178 havaintoa.\n",
    "\n",
    "\n",
    "Osa aineiston datasta on epäilyttävää. Esimerkiksi 144 elokuvista on saanut 0.0 arvostelun, ja niiden kaikkien tuotto on tasan $175,269,998.80\n",
    "\n",
    "Aineiston julkaisija on ilmeisesti käyttänyt jotain knn keinoa aineiston täyttämiseen. Tämä täytyy ottaa huomioon myöhemmin.\n",
    "\n"
   ]
  },
  {
   "cell_type": "markdown",
   "metadata": {},
   "source": [
    "# Vaihe 3\n",
    "## Aineiston esikäsittely"
   ]
  },
  {
   "cell_type": "markdown",
   "metadata": {},
   "source": [
    "#### Huonojen havaintojen poisto"
   ]
  },
  {
   "cell_type": "code",
   "execution_count": 9,
   "metadata": {
    "ExecuteTime": {
     "end_time": "2025-03-02T13:48:57.506023Z",
     "start_time": "2025-03-02T13:48:57.481613Z"
    }
   },
   "outputs": [
    {
     "name": "stdout",
     "output_type": "stream",
     "text": [
      "(9889, 12)\n",
      "Poistettu 289 riviä, jossa oli tyhjiä arvoja tai arvostelu oli 0.0\n"
     ]
    }
   ],
   "source": [
    "# Tässä poistetaan ne havainnot joissa on tyhjiä arvoja tai arvostelu on 0.0\n",
    "dataset = dataset.dropna()\n",
    "dataset = dataset[dataset['score'] != 0.0]\n",
    "print(dataset.shape)\n",
    "amount_of_rows_post = dataset.shape[0]\n",
    "print(\"Poistettu \" + str(amount_of_rows_pre - amount_of_rows_post) + \" riviä, jossa oli tyhjiä arvoja tai arvostelu oli 0.0\")"
   ]
  },
  {
   "cell_type": "markdown",
   "metadata": {},
   "source": [
    "#### Avataan näyttelijät\n",
    "Emme ole kiinnostuneita näyttelijöiden hahmoista, joten poistetaan ne aineistosta."
   ]
  },
  {
   "cell_type": "code",
   "execution_count": 10,
   "metadata": {
    "ExecuteTime": {
     "end_time": "2025-03-02T13:49:00.281669Z",
     "start_time": "2025-03-02T13:49:00.275975Z"
    }
   },
   "outputs": [
    {
     "name": "stdout",
     "output_type": "stream",
     "text": [
      "1. elokuvan näyttelijät:\n",
      "0    Michael B. Jordan, Adonis Creed, Tessa Thompson, Bianca Taylor, Jonathan Majors, Damien Anderson, Wood Harris, Tony 'Little Duke' Evers, Phylicia Rashād, Mary Anne Creed, Mila Davis-Kent, Amara Creed, Florian Munteanu, Viktor Drago, José Benavidez Jr., Felix Chavez, Selenis Leyva, Laura Chavez\n",
      "Name: crew, dtype: object\n"
     ]
    }
   ],
   "source": [
    "print(\"1. elokuvan näyttelijät:\")\n",
    "print(dataset['crew'].head(1))"
   ]
  },
  {
   "cell_type": "code",
   "execution_count": 11,
   "metadata": {
    "ExecuteTime": {
     "end_time": "2025-03-02T13:49:02.546156Z",
     "start_time": "2025-03-02T13:49:02.496496Z"
    }
   },
   "outputs": [
    {
     "name": "stdout",
     "output_type": "stream",
     "text": [
      "1. elokuvan näyttelijät:\n",
      "0    [Michael B. Jordan, Tessa Thompson, Jonathan Majors, Wood Harris, Phylicia Rashād, Mila Davis-Kent, Florian Munteanu, José Benavidez Jr., Selenis Leyva]\n",
      "Name: crew, dtype: object\n"
     ]
    }
   ],
   "source": [
    "# Tässä avataan näyttelijät. Näyttelijän hahmo on listattu näyttelijän jälkeen. (esim. Tom Cruise, Ethan Hunt, ...)\n",
    "dataset['crew'] = dataset['crew'].str.split(', ')\n",
    "# Poista joka toinen alkio\n",
    "dataset['crew'] = dataset['crew'].apply(lambda x: x[::2])\n",
    "print(\"1. elokuvan näyttelijät:\")\n",
    "print(dataset['crew'].head(1))"
   ]
  },
  {
   "cell_type": "markdown",
   "metadata": {},
   "source": [
    "Crew -sarake sisältää siis nyt vain näyttelijät ilman hahmoja"
   ]
  },
  {
   "cell_type": "markdown",
   "metadata": {},
   "source": [
    "# Vaihe 4\n",
    "### Aineiston analysointi"
   ]
  },
  {
   "cell_type": "code",
   "execution_count": 12,
   "metadata": {},
   "outputs": [],
   "source": [
    "#  JOKAISESSA ANALYSOINTIKOHDASSA TEHDÄÄN AINEISTOSTA KOPIO, ETTEI MYÖHEMMÄT KOHDAT MUUTU"
   ]
  },
  {
   "cell_type": "markdown",
   "metadata": {},
   "source": [
    "#### Mitkä genret ovat suosittuja milloin"
   ]
  },
  {
   "cell_type": "code",
   "execution_count": null,
   "metadata": {
    "ExecuteTime": {
     "start_time": "2025-03-02T13:49:07.907239Z"
    },
    "jupyter": {
     "is_executing": true
    }
   },
   "outputs": [
    {
     "name": "stdout",
     "output_type": "stream",
     "text": [
      "Found 19 unique genres\n",
      "   year  Action  Adventure  Animation  Comedy  Crime  Documentary  Drama  \\\n",
      "0  2023       1          0          0       0      0            0      1   \n",
      "1  2022       1          1          0       0      0            0      0   \n",
      "2  2023       0          1          1       1      0            0      0   \n",
      "3  2023       0          1          1       1      0            0      0   \n",
      "4  2023       1          0          0       0      0            0      0   \n",
      "\n",
      "   Family  Fantasy  History  Horror  Music  Mystery  Romance  Science Fiction  \\\n",
      "0       0        0        0       0      0        0        0                0   \n",
      "1       0        0        0       0      0        0        0                1   \n",
      "2       1        1        0       0      0        0        0                0   \n",
      "3       1        1        0       0      0        0        0                0   \n",
      "4       0        0        0       0      0        0        0                0   \n",
      "\n",
      "   TV Movie  Thriller  War  Western  \n",
      "0         0         0    0        0  \n",
      "1         0         0    0        0  \n",
      "2         0         0    0        0  \n",
      "3         0         0    0        0  \n",
      "4         0         0    0        0  \n",
      "(9889, 20)\n"
     ]
    },
    {
     "data": {
      "image/png": "[encoded data removed]",
      "text/plain": [
       "<Figure size 2000x1000 with 1 Axes>"
      ]
     },
     "metadata": {},
     "output_type": "display_data"
    }
   ],
   "source": [
    "dataset_genre = dataset.copy()\n",
    "\n",
    "# Drop description column\n",
    "dataset_genre = dataset_genre.drop(columns=['overview'])\n",
    "\n",
    "# Extract year from the release date\n",
    "dataset_genre['date_x'] = pd.to_datetime(dataset_genre['date_x'])\n",
    "dataset_genre['year'] = dataset_genre['date_x'].dt.year\n",
    "\n",
    "# Extract all individual genres from the genre column\n",
    "all_genres = []\n",
    "for genre_string in dataset_genre['genre']:\n",
    "    # Split on comma and remove any non-standard whitespace\n",
    "    genres = [g.strip() for g in genre_string.split(',')]\n",
    "    all_genres.extend(genres)\n",
    "\n",
    "# Get unique genres and sort them\n",
    "unique_genres = sorted(list(set(all_genres)))\n",
    "print(f\"Found {len(unique_genres)} unique genres\")\n",
    "\n",
    "# Create a new dataframe with a column for each genre\n",
    "genres = pd.DataFrame(index=dataset_genre.index)\n",
    "for genre in unique_genres:\n",
    "    genres[genre] = dataset_genre['genre'].apply(lambda x: 1 if genre in x else 0)\n",
    "\n",
    "# Join the original dataset with the genre dataframe\n",
    "dataset_genre = dataset_genre.join(genres)\n",
    "\n",
    "# Drop unnecessary columns\n",
    "dataset_genre = dataset_genre.drop(columns=['genre', 'crew', 'names', 'orig_title', 'status', 'orig_lang', 'budget_x', 'score', 'date_x', 'revenue', 'country'])\n",
    "\n",
    "# Print the first few rows of the dataset\n",
    "print(dataset_genre.head())\n",
    "print(dataset_genre.shape)\n",
    "\n",
    "# Change the year of a movie to the decade it was released in\n",
    "for row in dataset_genre.itertuples():\n",
    "    dataset_genre.at[row.Index, 'year'] = row.year - (row.year % 10)\n",
    "\n",
    "\n",
    "# --- PLOT ---\n",
    "# Group by decade and sum the genre columns\n",
    "dataset_genre = dataset_genre.groupby('year').sum()\n",
    "\n",
    "# Create a colormap for the genres\n",
    "colormap = plt.cm.tab20\n",
    "\n",
    "# Plot the data\n",
    "plt.figure(figsize=(20, 10))\n",
    "bar_width = 0.75 / len(dataset_genre.columns)\n",
    "x = np.arange(len(dataset_genre.index))\n",
    "\n",
    "for i, genre in enumerate(dataset_genre.columns):\n",
    "    plt.bar(x + i * bar_width, dataset_genre[genre], \n",
    "            width=bar_width, label=genre, color=colormap(i % 20))\n",
    "\n",
    "plt.xticks(x + bar_width * len(dataset_genre.columns) / 2 - bar_width/2, dataset_genre.index)\n",
    "plt.legend(loc='upper left', ncol=2)\n",
    "plt.title('Movies by genre and decade')\n",
    "plt.xlabel('Decade')\n",
    "plt.ylabel('Number of movies')\n",
    "plt.yscale('log')\n",
    "plt.tight_layout()\n",
    "plt.show()"
   ]
  },
  {
   "cell_type": "markdown",
   "metadata": {},
   "source": [
    "##### Analyysi:\n",
    "Kaavio on logaritminen. Voidaan päätellä, että ylipäänsä elokuvien määrä on lisääntynyt vuosien saatossa. 2010 -vuonna elokuvia tehtiin noin 1000 -kertainen määrä vuoteen 1900 verrattuna. Myös genrejen kirjo on kasvanut."
   ]
  },
  {
   "cell_type": "markdown",
   "metadata": {},
   "source": [
    "#### Mikä näyttelijöiden yhdistelmä tuottaa suosittuja elokuvia?"
   ]
  },
  {
   "cell_type": "code",
   "execution_count": null,
   "metadata": {},
   "outputs": [],
   "source": []
  },
  {
   "cell_type": "markdown",
   "metadata": {},
   "source": [
    "#### Korrelaatio arvioiden ja tuoton välillä. Voiko elokuva olla huonosti arvioitu mutta silti tuottoisa tai toisin päin?"
   ]
  },
  {
   "cell_type": "code",
   "execution_count": null,
   "metadata": {},
   "outputs": [],
   "source": []
  },
  {
   "cell_type": "markdown",
   "metadata": {},
   "source": [
    "#### Jos tekisimme elokuvan, millainen sen kannattaa olla, että se on tuottoisa ja suosittu?"
   ]
  },
  {
   "cell_type": "code",
   "execution_count": 14,
   "metadata": {},
   "outputs": [
    {
     "name": "stdout",
     "output_type": "stream",
     "text": [
      "Logistic Regression Metrics:\n",
      "Accuracy: 0.8604651162790697\n",
      "Classification Report:\n",
      "              precision    recall  f1-score   support\n",
      "\n",
      "       False       0.87      0.89      0.88      1141\n",
      "        True       0.85      0.82      0.83       837\n",
      "\n",
      "    accuracy                           0.86      1978\n",
      "   macro avg       0.86      0.85      0.86      1978\n",
      "weighted avg       0.86      0.86      0.86      1978\n",
      "\n",
      "Confusion Matrix:\n",
      "[[1019  122]\n",
      " [ 154  683]]\n"
     ]
    }
   ],
   "source": [
    "from sklearn.model_selection import train_test_split\n",
    "from sklearn.linear_model import LogisticRegression\n",
    "from sklearn.metrics import accuracy_score, classification_report, confusion_matrix\n",
    "\n",
    "# Copy the dataset\n",
    "dataset_profitable = dataset.copy()\n",
    "\n",
    "# Drop rows with missing values\n",
    "dataset_profitable = dataset_profitable.dropna()\n",
    "dataset_profitable = dataset_profitable[dataset_profitable['score'] != 0.0]\n",
    "\n",
    "# Extract year from the release date\n",
    "dataset_profitable['date_x'] = pd.to_datetime(dataset_profitable['date_x'])\n",
    "dataset_profitable['year'] = dataset_profitable['date_x'].dt.year\n",
    "\n",
    "# Convert categorical variables to dummy variables\n",
    "dataset_profitable = pd.get_dummies(dataset_profitable, columns=['genre', 'country', 'orig_lang'], drop_first=True)\n",
    "\n",
    "# Define the features and target variable\n",
    "X = dataset_profitable.drop(columns=['names', 'date_x', 'overview', 'crew', 'orig_title', 'status', 'revenue'])\n",
    "y = dataset_profitable['revenue'] > dataset_profitable['revenue'].mean()\n",
    "\n",
    "# Split the dataset into a training set and a testing set\n",
    "X_train, X_test, y_train, y_test = train_test_split(X, y, test_size=0.2, random_state=42)\n",
    "\n",
    "# Train\n",
    "model = LogisticRegression(max_iter=1000)\n",
    "model.fit(X_train, y_train)\n",
    "\n",
    "# Predict\n",
    "y_pred = model.predict(X_test)\n",
    "\n",
    "# Evaluate\n",
    "print(\"Logistic Regression Metrics:\")\n",
    "print('Accuracy:', accuracy_score(y_test, y_pred))\n",
    "print('Classification Report:')\n",
    "print(classification_report(y_test, y_pred))\n",
    "print('Confusion Matrix:')\n",
    "print(confusion_matrix(y_test, y_pred))\n",
    "\n"
   ]
  },
  {
   "cell_type": "markdown",
   "metadata": {},
   "source": [
    "# Vaihe 5\n",
    "### Analyysin tulkinta"
   ]
  },
  {
   "cell_type": "markdown",
   "metadata": {},
   "source": [
    "# Vaihe 6\n",
    "### Tulosten hyödyntäminen"
   ]
  },
  {
   "cell_type": "markdown",
   "metadata": {},
   "source": []
  }
 ],
 "metadata": {
  "kernelspec": {
   "display_name": "Python [conda env:base] *",
   "language": "python",
   "name": "conda-base-py"
  },
  "language_info": {
   "codemirror_mode": {
    "name": "ipython",
    "version": 3
   },
   "file_extension": ".py",
   "mimetype": "text/x-python",
   "name": "python",
   "nbconvert_exporter": "python",
   "pygments_lexer": "ipython3",
   "version": "3.12.7"
  }
 },
 "nbformat": 4,
 "nbformat_minor": 4
}
