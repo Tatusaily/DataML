{
 "cells": [
  {
   "cell_type": "markdown",
   "metadata": {},
   "source": [
    "# Vaihe 1\n",
    "\n",
    "### Kiinnostavat tutkimuskysymykset\n",
    "1. Mitkä genret ovat olleet suosittuja milloin?\n",
    "2. Mikä näyttelijöiden yhdistelmä tuottaa suosittuja elokuvia?\n",
    "3. Korrelaatio arvioiden ja tuoton välillä. Voiko elokuva olla huonosti arvioitu mutta silti tuottoisa tai toisin päin?\n",
    "4. Jos tekisimme elokuvan, millainen sen kannattaa olla, että se on tuottoisa ja suosittu?"
   ]
  },
  {
   "cell_type": "markdown",
   "metadata": {},
   "source": [
    "# Vaihe 2\n",
    "\n",
    "### Aineiston kuvaus\n",
    "Aineisto löydettiin Kagglesta ja se sisältää tietoa elokuvista IMDB palvelussa.\n",
    "\n",
    "Linkki aineistoon: [LINKKI](https://www.kaggle.com/datasets/ashpalsingh1525/imdb-movies-dataset)\n"
   ]
  },
  {
   "cell_type": "code",
   "metadata": {
    "ExecuteTime": {
     "end_time": "2025-03-03T10:30:47.687259Z",
     "start_time": "2025-03-03T10:30:43.596399Z"
    }
   },
   "source": [
    "import matplotlib.pyplot as plt\n",
    "import numpy as np\n",
    "import pandas as pd\n",
    "# set display options\n",
    "pd.set_option('display.max_colwidth', None)\n",
    "\n",
    "dataset = pd.read_csv('Datasets/imdb_movies.csv')\n",
    "\n",
    "# TODO: Fixaa tää silleen et selitetään otsikoiden tarkoitus\n",
    "# Print dataframe columns\n",
    "print(\"Aineiston otsikot:\")\n",
    "print(dataset.columns)\n",
    "print(\"Otsikoiden tyypit:\")\n",
    "print(dataset.dtypes)\n",
    "print(\"Aineiston muoto:\")\n",
    "print(dataset.shape)\n",
    "amount_of_rows_pre = dataset.shape[0]\n"
   ],
   "outputs": [
    {
     "name": "stdout",
     "output_type": "stream",
     "text": [
      "Aineiston otsikot:\n",
      "Index(['names', 'date_x', 'score', 'genre', 'overview', 'crew', 'orig_title',\n",
      "       'status', 'orig_lang', 'budget_x', 'revenue', 'country'],\n",
      "      dtype='object')\n",
      "Otsikoiden tyypit:\n",
      "names          object\n",
      "date_x         object\n",
      "score         float64\n",
      "genre          object\n",
      "overview       object\n",
      "crew           object\n",
      "orig_title     object\n",
      "status         object\n",
      "orig_lang      object\n",
      "budget_x      float64\n",
      "revenue       float64\n",
      "country        object\n",
      "dtype: object\n",
      "Aineiston muoto:\n",
      "(10178, 12)\n"
     ]
    }
   ],
   "execution_count": 7
  },
  {
   "cell_type": "markdown",
   "metadata": {},
   "source": [
    "#### Aineiston otsikot:\n",
    "- names:        Elokuvan nimi englanniksi\n",
    "- date_x:       Elokuvan julkaisupäivämäärä\n",
    "- score:        IMDB-käyttäjien antaman pistemäärän keskiarvo \n",
    "- genre:        Elokuvan genre\n",
    "- overview:     Elokuvan kuvaus englanniksi\n",
    "- crew:         Elokuvan näyttelijät ja heidän esittämät hahmot. esim. (näyttelijä, hahmo, näyttelijä, hahmo)\n",
    "- orig_title:   Elokuvan nimi alkuperäisellä kielellä\n",
    "- status:       Elokuvan tilanne. (Kaikki havainnot ovat julkaistu)\n",
    "- orig_lang:    Elokuvan alkuperäiskieli\n",
    "- budget_x:     Elokuvan budjetti (USD)\n",
    "- revenue:      Elokuvan bruttotuotto (USD)\n",
    "- country:      Elokuvan julkaisumaa\n",
    "\n",
    "Aineistossa on siis 12 otsikkoa ja 10178 havaintoa.\n",
    "\n",
    "\n",
    "Osa aineiston datasta on epäilyttävää. Esimerkiksi 144 elokuvista on saanut 0.0 arvostelun, ja niiden kaikkien tuotto on tasan $175,269,998.80\n",
    "\n",
    "Aineiston julkaisija on ilmeisesti käyttänyt jotain knn keinoa aineiston täyttämiseen. Tämä täytyy ottaa huomioon myöhemmin.\n",
    "\n"
   ]
  },
  {
   "cell_type": "markdown",
   "metadata": {},
   "source": [
    "# Vaihe 3\n",
    "## Aineiston esikäsittely"
   ]
  },
  {
   "cell_type": "markdown",
   "metadata": {},
   "source": [
    "#### Huonojen havaintojen poisto"
   ]
  },
  {
   "cell_type": "code",
   "metadata": {
    "ExecuteTime": {
     "end_time": "2025-03-03T10:30:57.895185Z",
     "start_time": "2025-03-03T10:30:57.838669Z"
    }
   },
   "source": [
    "# Tässä poistetaan ne havainnot joissa on tyhjiä arvoja tai arvostelu on 0.0\n",
    "dataset = dataset.dropna()\n",
    "dataset = dataset[dataset['score'] != 0.0]\n",
    "print(dataset.shape)\n",
    "amount_of_rows_post = dataset.shape[0]\n",
    "print(\"Poistettu \" + str(amount_of_rows_pre - amount_of_rows_post) + \" riviä, jossa oli tyhjiä arvoja tai arvostelu oli 0.0\")"
   ],
   "outputs": [
    {
     "name": "stdout",
     "output_type": "stream",
     "text": [
      "(9889, 12)\n",
      "Poistettu 289 riviä, jossa oli tyhjiä arvoja tai arvostelu oli 0.0\n"
     ]
    }
   ],
   "execution_count": 8
  },
  {
   "cell_type": "markdown",
   "metadata": {},
   "source": [
    "#### Avataan näyttelijät\n",
    "Emme ole kiinnostuneita näyttelijöiden hahmoista, joten poistetaan ne aineistosta."
   ]
  },
  {
   "cell_type": "code",
   "metadata": {
    "ExecuteTime": {
     "end_time": "2025-03-03T10:31:01.246577Z",
     "start_time": "2025-03-03T10:31:01.237335Z"
    }
   },
   "source": [
    "print(\"1. elokuvan näyttelijät:\")\n",
    "print(dataset['crew'].head(1))"
   ],
   "outputs": [
    {
     "name": "stdout",
     "output_type": "stream",
     "text": [
      "1. elokuvan näyttelijät:\n",
      "0    Michael B. Jordan, Adonis Creed, Tessa Thompson, Bianca Taylor, Jonathan Majors, Damien Anderson, Wood Harris, Tony 'Little Duke' Evers, Phylicia Rashād, Mary Anne Creed, Mila Davis-Kent, Amara Creed, Florian Munteanu, Viktor Drago, José Benavidez Jr., Felix Chavez, Selenis Leyva, Laura Chavez\n",
      "Name: crew, dtype: object\n"
     ]
    }
   ],
   "execution_count": 9
  },
  {
   "cell_type": "code",
   "metadata": {
    "ExecuteTime": {
     "end_time": "2025-03-03T10:31:03.691374Z",
     "start_time": "2025-03-03T10:31:03.552424Z"
    }
   },
   "source": [
    "# Tässä avataan näyttelijät. Näyttelijän hahmo on listattu näyttelijän jälkeen. (esim. Tom Cruise, Ethan Hunt, ...)\n",
    "dataset['crew'] = dataset['crew'].str.split(', ')\n",
    "# Poista joka toinen alkio\n",
    "dataset['crew'] = dataset['crew'].apply(lambda x: x[::2])\n",
    "print(\"1. elokuvan näyttelijät:\")\n",
    "print(dataset['crew'].head(1))"
   ],
   "outputs": [
    {
     "name": "stdout",
     "output_type": "stream",
     "text": [
      "1. elokuvan näyttelijät:\n",
      "0    [Michael B. Jordan, Tessa Thompson, Jonathan Majors, Wood Harris, Phylicia Rashād, Mila Davis-Kent, Florian Munteanu, José Benavidez Jr., Selenis Leyva]\n",
      "Name: crew, dtype: object\n"
     ]
    }
   ],
   "execution_count": 10
  },
  {
   "cell_type": "markdown",
   "metadata": {},
   "source": [
    "Crew -sarake sisältää siis nyt vain näyttelijät ilman hahmoja"
   ]
  },
  {
   "cell_type": "markdown",
   "metadata": {},
   "source": [
    "# Vaihe 4\n",
    "### Aineiston analysointi"
   ]
  },
  {
   "cell_type": "code",
   "execution_count": 37,
   "metadata": {},
   "outputs": [],
   "source": [
    "#  JOKAISESSA ANALYSOINTIKOHDASSA TEHDÄÄN AINEISTOSTA KOPIO, ETTEI MYÖHEMMÄT KOHDAT MUUTU"
   ]
  },
  {
   "cell_type": "markdown",
   "metadata": {},
   "source": [
    "#### Mitkä genret ovat suosittuja milloin"
   ]
  },
  {
   "cell_type": "code",
   "metadata": {
    "ExecuteTime": {
     "end_time": "2025-03-03T10:31:09.422287Z",
     "start_time": "2025-03-03T10:31:07.206422Z"
    }
   },
   "source": [
    "dataset_genre = dataset.copy()\n",
    "\n",
    "# Extract year from the release date\n",
    "dataset_genre['date_x'] = pd.to_datetime(dataset_genre['date_x'])\n",
    "dataset_genre['year'] = dataset_genre['date_x'].dt.year\n",
    "\n",
    "# Split genres\n",
    "dataset_genre['genre'] = dataset_genre['genre'].str.split(', ')\n",
    "dataset_genre = dataset_genre.explode('genre')\n",
    "\n",
    "# Group by genre and year\n",
    "grouped = dataset_genre.groupby(['genre', dataset_genre['year'].dt.year]).size().unstack()\n",
    "\n",
    "# Plot the results\n",
    "grouped.plot(kind='bar', stacked=True, figsize=(15, 10))\n",
    "plt.title('Poplarity of movie genres over the years')\n",
    "plt.ylabel('Amount of movies')\n",
    "plt.xlabel('Year')\n",
    "plt.legend(title='Genre', bbox_to_anchor=(1.05, 1), loc='upper left')\n",
    "plt.tight_layout()\n",
    "plt.show()"
   ],
   "outputs": [
    {
     "ename": "AttributeError",
     "evalue": "Can only use .dt accessor with datetimelike values",
     "output_type": "error",
     "traceback": [
      "\u001B[1;31m---------------------------------------------------------------------------\u001B[0m",
      "\u001B[1;31mAttributeError\u001B[0m                            Traceback (most recent call last)",
      "Cell \u001B[1;32mIn[11], line 12\u001B[0m\n\u001B[0;32m      9\u001B[0m dataset_genre \u001B[38;5;241m=\u001B[39m dataset_genre\u001B[38;5;241m.\u001B[39mexplode(\u001B[38;5;124m'\u001B[39m\u001B[38;5;124mgenre\u001B[39m\u001B[38;5;124m'\u001B[39m)\n\u001B[0;32m     11\u001B[0m \u001B[38;5;66;03m# Group by genre and year\u001B[39;00m\n\u001B[1;32m---> 12\u001B[0m grouped \u001B[38;5;241m=\u001B[39m dataset_genre\u001B[38;5;241m.\u001B[39mgroupby([\u001B[38;5;124m'\u001B[39m\u001B[38;5;124mgenre\u001B[39m\u001B[38;5;124m'\u001B[39m, dataset_genre[\u001B[38;5;124m'\u001B[39m\u001B[38;5;124myear\u001B[39m\u001B[38;5;124m'\u001B[39m]\u001B[38;5;241m.\u001B[39mdt\u001B[38;5;241m.\u001B[39myear])\u001B[38;5;241m.\u001B[39msize()\u001B[38;5;241m.\u001B[39munstack()\n\u001B[0;32m     14\u001B[0m \u001B[38;5;66;03m# Plot the results\u001B[39;00m\n\u001B[0;32m     15\u001B[0m grouped\u001B[38;5;241m.\u001B[39mplot(kind\u001B[38;5;241m=\u001B[39m\u001B[38;5;124m'\u001B[39m\u001B[38;5;124mbar\u001B[39m\u001B[38;5;124m'\u001B[39m, stacked\u001B[38;5;241m=\u001B[39m\u001B[38;5;28;01mTrue\u001B[39;00m, figsize\u001B[38;5;241m=\u001B[39m(\u001B[38;5;241m15\u001B[39m, \u001B[38;5;241m10\u001B[39m))\n",
      "File \u001B[1;32m~\\anaconda3\\Lib\\site-packages\\pandas\\core\\generic.py:5902\u001B[0m, in \u001B[0;36mNDFrame.__getattr__\u001B[1;34m(self, name)\u001B[0m\n\u001B[0;32m   5895\u001B[0m \u001B[38;5;28;01mif\u001B[39;00m (\n\u001B[0;32m   5896\u001B[0m     name \u001B[38;5;129;01mnot\u001B[39;00m \u001B[38;5;129;01min\u001B[39;00m \u001B[38;5;28mself\u001B[39m\u001B[38;5;241m.\u001B[39m_internal_names_set\n\u001B[0;32m   5897\u001B[0m     \u001B[38;5;129;01mand\u001B[39;00m name \u001B[38;5;129;01mnot\u001B[39;00m \u001B[38;5;129;01min\u001B[39;00m \u001B[38;5;28mself\u001B[39m\u001B[38;5;241m.\u001B[39m_metadata\n\u001B[0;32m   5898\u001B[0m     \u001B[38;5;129;01mand\u001B[39;00m name \u001B[38;5;129;01mnot\u001B[39;00m \u001B[38;5;129;01min\u001B[39;00m \u001B[38;5;28mself\u001B[39m\u001B[38;5;241m.\u001B[39m_accessors\n\u001B[0;32m   5899\u001B[0m     \u001B[38;5;129;01mand\u001B[39;00m \u001B[38;5;28mself\u001B[39m\u001B[38;5;241m.\u001B[39m_info_axis\u001B[38;5;241m.\u001B[39m_can_hold_identifiers_and_holds_name(name)\n\u001B[0;32m   5900\u001B[0m ):\n\u001B[0;32m   5901\u001B[0m     \u001B[38;5;28;01mreturn\u001B[39;00m \u001B[38;5;28mself\u001B[39m[name]\n\u001B[1;32m-> 5902\u001B[0m \u001B[38;5;28;01mreturn\u001B[39;00m \u001B[38;5;28mobject\u001B[39m\u001B[38;5;241m.\u001B[39m\u001B[38;5;21m__getattribute__\u001B[39m(\u001B[38;5;28mself\u001B[39m, name)\n",
      "File \u001B[1;32m~\\anaconda3\\Lib\\site-packages\\pandas\\core\\accessor.py:182\u001B[0m, in \u001B[0;36mCachedAccessor.__get__\u001B[1;34m(self, obj, cls)\u001B[0m\n\u001B[0;32m    179\u001B[0m \u001B[38;5;28;01mif\u001B[39;00m obj \u001B[38;5;129;01mis\u001B[39;00m \u001B[38;5;28;01mNone\u001B[39;00m:\n\u001B[0;32m    180\u001B[0m     \u001B[38;5;66;03m# we're accessing the attribute of the class, i.e., Dataset.geo\u001B[39;00m\n\u001B[0;32m    181\u001B[0m     \u001B[38;5;28;01mreturn\u001B[39;00m \u001B[38;5;28mself\u001B[39m\u001B[38;5;241m.\u001B[39m_accessor\n\u001B[1;32m--> 182\u001B[0m accessor_obj \u001B[38;5;241m=\u001B[39m \u001B[38;5;28mself\u001B[39m\u001B[38;5;241m.\u001B[39m_accessor(obj)\n\u001B[0;32m    183\u001B[0m \u001B[38;5;66;03m# Replace the property with the accessor object. Inspired by:\u001B[39;00m\n\u001B[0;32m    184\u001B[0m \u001B[38;5;66;03m# https://www.pydanny.com/cached-property.html\u001B[39;00m\n\u001B[0;32m    185\u001B[0m \u001B[38;5;66;03m# We need to use object.__setattr__ because we overwrite __setattr__ on\u001B[39;00m\n\u001B[0;32m    186\u001B[0m \u001B[38;5;66;03m# NDFrame\u001B[39;00m\n\u001B[0;32m    187\u001B[0m \u001B[38;5;28mobject\u001B[39m\u001B[38;5;241m.\u001B[39m\u001B[38;5;21m__setattr__\u001B[39m(obj, \u001B[38;5;28mself\u001B[39m\u001B[38;5;241m.\u001B[39m_name, accessor_obj)\n",
      "File \u001B[1;32m~\\anaconda3\\Lib\\site-packages\\pandas\\core\\indexes\\accessors.py:512\u001B[0m, in \u001B[0;36mCombinedDatetimelikeProperties.__new__\u001B[1;34m(cls, data)\u001B[0m\n\u001B[0;32m    509\u001B[0m \u001B[38;5;28;01melif\u001B[39;00m is_period_dtype(data\u001B[38;5;241m.\u001B[39mdtype):\n\u001B[0;32m    510\u001B[0m     \u001B[38;5;28;01mreturn\u001B[39;00m PeriodProperties(data, orig)\n\u001B[1;32m--> 512\u001B[0m \u001B[38;5;28;01mraise\u001B[39;00m \u001B[38;5;167;01mAttributeError\u001B[39;00m(\u001B[38;5;124m\"\u001B[39m\u001B[38;5;124mCan only use .dt accessor with datetimelike values\u001B[39m\u001B[38;5;124m\"\u001B[39m)\n",
      "\u001B[1;31mAttributeError\u001B[0m: Can only use .dt accessor with datetimelike values"
     ]
    }
   ],
   "execution_count": 11
  },
  {
   "cell_type": "markdown",
   "metadata": {},
   "source": [
    "#### Mikä näyttelijöiden yhdistelmä tuottaa suosittuja elokuvia?"
   ]
  },
  {
   "cell_type": "code",
   "execution_count": null,
   "metadata": {},
   "outputs": [],
   "source": ""
  },
  {
   "cell_type": "markdown",
   "metadata": {},
   "source": "#### Korrelaatio arvioiden ja tuoton välillä."
  },
  {
   "metadata": {
    "ExecuteTime": {
     "end_time": "2025-03-03T12:09:26.237196Z",
     "start_time": "2025-03-03T12:09:26.110625Z"
    }
   },
   "cell_type": "code",
   "source": [
    "import pandas as pd\n",
    "import seaborn as sns\n",
    "\n",
    "# Kopioi aineisto\n",
    "dataset_correlation = dataset.copy()\n",
    "\n",
    "# Laske profit ja ROI\n",
    "dataset_correlation['profit'] = dataset_correlation['revenue'] - dataset_correlation['budget_x']\n",
    "dataset_correlation['roi'] = dataset_correlation['profit'] / dataset_correlation['budget_x']\n",
    "# poista ylimääräiset välilyönnit\n",
    "dataset_correlation['genre'] = dataset_correlation['genre'].str.strip().str.split(r'\\s*,\\s*')\n",
    "# Erotellaan genret erillisiksi riveiksi\n",
    "df = dataset_correlation.explode('genre')\n",
    "genre_stats = df.groupby('genre')[['score', 'profit']].mean().sort_values(by='profit', ascending=True)\n",
    "# Tulostetaan tulos\n",
    "print(genre_stats)\n",
    "\n",
    "\n"
   ],
   "outputs": [
    {
     "name": "stdout",
     "output_type": "stream",
     "text": [
      "                     score        profit\n",
      "genre                                   \n",
      "War              69.845324  1.328108e+08\n",
      "Western          68.530769  1.382839e+08\n",
      "Crime            65.802067  1.394526e+08\n",
      "History          69.820574  1.427855e+08\n",
      "Thriller         63.207591  1.483761e+08\n",
      "Horror           60.352406  1.538480e+08\n",
      "Mystery          64.942556  1.689148e+08\n",
      "Drama            67.057395  1.698814e+08\n",
      "Action           64.469049  1.835957e+08\n",
      "Comedy           64.643963  1.863774e+08\n",
      "Romance          64.402742  1.942138e+08\n",
      "Science Fiction  63.984763  2.049001e+08\n",
      "Adventure        65.859433  2.173471e+08\n",
      "Music            70.014760  2.198567e+08\n",
      "Fantasy          66.384446  2.265352e+08\n",
      "Family           66.611908  2.384640e+08\n",
      "Animation        69.522853  2.891327e+08\n",
      "TV Movie         65.757282  3.834781e+08\n",
      "Documentary      68.930851  4.484902e+08\n"
     ]
    }
   ],
   "execution_count": 63
  },
  {
   "metadata": {},
   "cell_type": "markdown",
   "source": "### Voiko elokuva olla huonosti arvioitu mutta silti tuottoisa tai toisin päin?\n"
  },
  {
   "metadata": {},
   "cell_type": "code",
   "outputs": [],
   "execution_count": null,
   "source": [
    "import matplotlib.pyplot as plt\n",
    "import seaborn as sns\n",
    "\n",
    "# Laske keskiarvot\n",
    "mean_score = dataset['score'].mean()\n",
    "mean_revenue = dataset['revenue'].mean()\n",
    "\n",
    "# Luo kategoriat\n",
    "dataset['category'] = 'Muu'\n",
    "dataset.loc[(dataset['score'] < mean_score) & (dataset['revenue'] > mean_revenue), 'category'] = 'Huonosti arvioitu, mutta tuottoisa'\n",
    "dataset.loc[(dataset['score'] > mean_score) & (dataset['revenue'] < mean_revenue), 'category'] = 'Hyvin arvioitu, mutta vähän tuottoa'\n",
    "\n",
    "# Poista 'Muu' kategoria\n",
    "filtered_dataset = dataset[dataset['category'] != 'Muu']\n",
    "# Tulosta kategorioiden jakauma\n",
    "print(filtered_dataset['category'].value_counts())\n",
    "\n",
    "# Visualisoi kategoriat\n",
    "plt.figure(figsize=(10, 6))\n",
    "sns.scatterplot(x='score', y='revenue', hue='category', data=filtered_dataset, palette='Set1', alpha=0.7)\n",
    "plt.axhline(mean_revenue, color='red', linestyle='--', label='Keskiarvo (tuotto)')\n",
    "plt.axvline(mean_score, color='blue', linestyle='--', label='Keskiarvo (arvosana)')\n",
    "plt.title('Elokuvien luokittelu arvioiden ja tuoton mukaan')\n",
    "plt.xlabel('IMDB-arvosana')\n",
    "plt.ylabel('Tuotto (USD)')\n",
    "plt.legend()\n",
    "plt.show()"
   ]
  },
  {
   "metadata": {
    "ExecuteTime": {
     "end_time": "2025-03-03T12:10:03.161920Z",
     "start_time": "2025-03-03T12:10:03.124877Z"
    }
   },
   "cell_type": "code",
   "source": [
    "# Huonosti arvioitu, mutta tuottoisin elokuva\n",
    "max_revenue_low_score = dataset[dataset['category'] == 'Huonosti arvioitu, mutta tuottoisa'].nlargest(1, 'revenue')\n",
    "\n",
    "print(\"Huonosti arvioitu, mutta tuottoisin elokuva:\")\n",
    "print(f\"Arvosana: {max_revenue_low_score['score'].values[0]}\")\n",
    "print(f\"Tuotto: {max_revenue_low_score['revenue'].values[0]} USD\")\n",
    "print(f\"Nimi: {max_revenue_low_score['names'].values[0]}\")\n",
    "print(\"\\n\")\n",
    "\n",
    "# Etsi \"Hyvin arvioitu, mutta vähiten tuottoinen elokuva\"\n",
    "min_revenue_high_score = dataset[dataset['category'] == 'Hyvin arvioitu, mutta vähän tuottoa'].nsmallest(1, 'revenue')\n",
    "\n",
    "\n",
    "print(\"Hyvin arvioitu, mutta vähiten tuottoinen elokuva:\")\n",
    "print(f\"Arvosana: {min_revenue_high_score['score'].values[0]}\")\n",
    "print(f\"Tuotto: {min_revenue_high_score['revenue'].values[0]} USD\")\n",
    "print(f\"Nimi: {min_revenue_high_score['names'].values[0]}\")"
   ],
   "outputs": [
    {
     "name": "stdout",
     "output_type": "stream",
     "text": [
      "Huonosti arvioitu, mutta tuottoisin elokuva:\n",
      "Arvosana: 44.0\n",
      "Tuotto: 1515100211.0 USD\n",
      "Nimi: The Avengers\n",
      "\n",
      "\n",
      "Hyvin arvioitu, mutta vähiten tuottoinen elokuva:\n",
      "Arvosana: 78.0\n",
      "Tuotto: 0.0 USD\n",
      "Nimi: Prey\n"
     ]
    }
   ],
   "execution_count": 64
  },
  {
   "metadata": {},
   "cell_type": "markdown",
   "source": [
    "#### Mitä visualisaatiosta voi lukea?\n",
    "Huonosti arvioitu, mutta tuottoisa:\n",
    "Nämä elokuvat saavat huonoja arvosanoja, mutta ne tuottavat silti paljon rahaa. Tämä voi viitata siihen, että elokuva on kaupallisesti menestys, mutta ihmiset eivät pitäneet siitä.\n",
    "\n",
    "Hyvin arvioitu, mutta vähän tuottoa:\n",
    "\n",
    "Nämä elokuvat saavat hyviä arvosanoja, mutta ne eivät tuota paljon rahaa. Tämä voi tarkoittaa, että elokuva on arvostettu ihmiseten keskuudessa, mutta se ei ole saavuttanut laajaa yleisöä."
   ]
  },
  {
   "cell_type": "markdown",
   "metadata": {},
   "source": [
    "#### Jos tekisimme elokuvan, millainen sen kannattaa olla, että se on tuottoisa ja suosittu?"
   ]
  },
  {
   "cell_type": "code",
   "execution_count": null,
   "metadata": {},
   "outputs": [],
   "source": [
    "from sklearn.model_selection import train_test_split\n",
    "from sklearn.linear_model import LogisticRegression\n",
    "from sklearn.metrics import accuracy_score, classification_report, confusion_matrix\n",
    "\n",
    "# Copy the dataset\n",
    "dataset_profitable = dataset.copy()\n",
    "\n",
    "# Drop rows with missing values\n",
    "dataset_profitable = dataset_profitable.dropna()\n",
    "dataset_profitable = dataset_profitable[dataset_profitable['score'] != 0.0]\n",
    "\n",
    "# Extract year from the release date\n",
    "dataset_profitable['date_x'] = pd.to_datetime(dataset_profitable['date_x'])\n",
    "dataset_profitable['year'] = dataset_profitable['date_x'].dt.year\n",
    "\n",
    "# Convert categorical variables to dummy variables\n",
    "dataset_profitable = pd.get_dummies(dataset_profitable, columns=['genre', 'country', 'orig_lang'], drop_first=True)\n",
    "\n",
    "# Define the features and target variable\n",
    "X = dataset_profitable.drop(columns=['names', 'date_x', 'overview', 'crew', 'orig_title', 'status', 'revenue'])\n",
    "y = dataset_profitable['revenue'] > dataset_profitable['revenue'].mean()\n",
    "\n",
    "# Split the dataset into a training set and a testing set\n",
    "X_train, X_test, y_train, y_test = train_test_split(X, y, test_size=0.2, random_state=42)\n",
    "\n",
    "# Train\n",
    "model = LogisticRegression(max_iter=1000)\n",
    "model.fit(X_train, y_train)\n",
    "\n",
    "# Predict\n",
    "y_pred = model.predict(X_test)\n",
    "\n",
    "# Evaluate\n",
    "print(\"Logistic Regression Metrics:\")\n",
    "print('Accuracy:', accuracy_score(y_test, y_pred))\n",
    "print('Classification Report:')\n",
    "print(classification_report(y_test, y_pred))\n",
    "print('Confusion Matrix:')\n",
    "print(confusion_matrix(y_test, y_pred))\n",
    "\n"
   ]
  },
  {
   "cell_type": "markdown",
   "metadata": {},
   "source": [
    "# Vaihe 5\n",
    "### Analyysin tulkinta"
   ]
  },
  {
   "cell_type": "markdown",
   "metadata": {},
   "source": [
    "# Vaihe 6\n",
    "### Tulosten hyödyntäminen"
   ]
  },
  {
   "cell_type": "markdown",
   "metadata": {},
   "source": []
  }
 ],
 "metadata": {
  "kernelspec": {
   "display_name": "Python 3 (ipykernel)",
   "language": "python",
   "name": "python3"
  },
  "language_info": {
   "codemirror_mode": {
    "name": "ipython",
    "version": 3
   },
   "file_extension": ".py",
   "mimetype": "text/x-python",
   "name": "python",
   "nbconvert_exporter": "python",
   "pygments_lexer": "ipython3",
   "version": "3.12.7"
  }
 },
 "nbformat": 4,
 "nbformat_minor": 4
}
