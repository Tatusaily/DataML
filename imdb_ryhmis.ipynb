{
 "cells": [
  {
   "cell_type": "markdown",
   "metadata": {},
   "source": [
    "# Vaihe 1\n",
    "\n",
    "### Kiinnostavat tutkimuskysymykset\n",
    "1. Mitkä genret ovat olleet suosittuja milloin?\n",
    "2. Mikä näyttelijöiden yhdistelmä tuottaa suosittuja elokuvia?\n",
    "3. Korrelaatio arvioiden ja tuoton välillä. Voiko elokuva olla huonosti arvioitu mutta silti tuottoisa tai toisin päin?\n",
    "4. Jos tekisimme elokuvan, millainen sen kannattaa olla, että se on tuottoisa ja suosittu?"
   ]
  },
  {
   "cell_type": "markdown",
   "metadata": {},
   "source": [
    "# Vaihe 2\n",
    "\n",
    "### Aineiston kuvaus\n",
    "Aineisto löydettiin Kagglesta ja se sisältää tietoa elokuvista IMDB palvelussa.\n",
    "\n",
    "Linkki aineistoon: [LINKKI](https://www.kaggle.com/datasets/ashpalsingh1525/imdb-movies-dataset)\n"
   ]
  },
  {
   "cell_type": "code",
   "metadata": {
    "ExecuteTime": {
     "end_time": "2025-03-02T13:48:51.692649Z",
     "start_time": "2025-03-02T13:48:51.187004Z"
    }
   },
   "source": [
    "import matplotlib.pyplot as plt\n",
    "import numpy as np\n",
    "import pandas as pd\n",
    "# set display options\n",
    "pd.set_option('display.max_colwidth', None)\n",
    "\n",
    "dataset = pd.read_csv('Datasets/imdb_movies.csv')\n",
    "\n",
    "# TODO: Fixaa tää silleen et selitetään otsikoiden tarkoitus\n",
    "# Print dataframe columns\n",
    "print(\"Aineiston otsikot:\")\n",
    "print(dataset.columns)\n",
    "print(\"Otsikoiden tyypit:\")\n",
    "print(dataset.dtypes)\n",
    "print(\"Aineiston muoto:\")\n",
    "print(dataset.shape)\n",
    "amount_of_rows_pre = dataset.shape[0]\n"
   ],
   "outputs": [
    {
     "name": "stdout",
     "output_type": "stream",
     "text": [
      "Aineiston otsikot:\n",
      "Index(['names', 'date_x', 'score', 'genre', 'overview', 'crew', 'orig_title',\n",
      "       'status', 'orig_lang', 'budget_x', 'revenue', 'country'],\n",
      "      dtype='object')\n",
      "Otsikoiden tyypit:\n",
      "names          object\n",
      "date_x         object\n",
      "score         float64\n",
      "genre          object\n",
      "overview       object\n",
      "crew           object\n",
      "orig_title     object\n",
      "status         object\n",
      "orig_lang      object\n",
      "budget_x      float64\n",
      "revenue       float64\n",
      "country        object\n",
      "dtype: object\n",
      "Aineiston muoto:\n",
      "(10178, 12)\n"
     ]
    }
   ],
   "execution_count": 1
  },
  {
   "cell_type": "markdown",
   "metadata": {},
   "source": [
    "#### Aineiston otsikot:\n",
    "- names:        Elokuvan nimi englanniksi\n",
    "- date_x:       Elokuvan julkaisupäivämäärä\n",
    "- score:        IMDB-käyttäjien antaman pistemäärän keskiarvo \n",
    "- genre:        Elokuvan genre\n",
    "- overview:     Elokuvan kuvaus englanniksi\n",
    "- crew:         Elokuvan näyttelijät ja heidän esittämät hahmot. esim. (näyttelijä, hahmo, näyttelijä, hahmo)\n",
    "- orig_title:   Elokuvan nimi alkuperäisellä kielellä\n",
    "- status:       Elokuvan tilanne. (Kaikki havainnot ovat julkaistu)\n",
    "- orig_lang:    Elokuvan alkuperäiskieli\n",
    "- budget_x:     Elokuvan budjetti (USD)\n",
    "- revenue:      Elokuvan bruttotuotto (USD)\n",
    "- country:      Elokuvan julkaisumaa\n",
    "\n",
    "Aineistossa on siis 12 otsikkoa ja 10178 havaintoa.\n",
    "\n",
    "\n",
    "Osa aineiston datasta on epäilyttävää. Esimerkiksi 144 elokuvista on saanut 0.0 arvostelun, ja niiden kaikkien tuotto on tasan $175,269,998.80\n",
    "\n",
    "Aineiston julkaisija on ilmeisesti käyttänyt jotain knn keinoa aineiston täyttämiseen. Tämä täytyy ottaa huomioon myöhemmin.\n",
    "\n"
   ]
  },
  {
   "cell_type": "markdown",
   "metadata": {},
   "source": [
    "# Vaihe 3\n",
    "## Aineiston esikäsittely"
   ]
  },
  {
   "cell_type": "markdown",
   "metadata": {},
   "source": [
    "#### Huonojen havaintojen poisto"
   ]
  },
  {
   "cell_type": "code",
   "metadata": {
    "ExecuteTime": {
     "end_time": "2025-03-02T13:48:57.506023Z",
     "start_time": "2025-03-02T13:48:57.481613Z"
    }
   },
   "source": [
    "# Tässä poistetaan ne havainnot joissa on tyhjiä arvoja tai arvostelu on 0.0\n",
    "dataset = dataset.dropna()\n",
    "dataset = dataset[dataset['score'] != 0.0]\n",
    "print(dataset.shape)\n",
    "amount_of_rows_post = dataset.shape[0]\n",
    "print(\"Poistettu \" + str(amount_of_rows_pre - amount_of_rows_post) + \" riviä, jossa oli tyhjiä arvoja tai arvostelu oli 0.0\")"
   ],
   "outputs": [
    {
     "name": "stdout",
     "output_type": "stream",
     "text": [
      "(9889, 12)\n",
      "Poistettu 289 riviä, jossa oli tyhjiä arvoja tai arvostelu oli 0.0\n"
     ]
    }
   ],
   "execution_count": 2
  },
  {
   "cell_type": "markdown",
   "metadata": {},
   "source": [
    "#### Avataan näyttelijät\n",
    "Emme ole kiinnostuneita näyttelijöiden hahmoista, joten poistetaan ne aineistosta."
   ]
  },
  {
   "cell_type": "code",
   "metadata": {
    "ExecuteTime": {
     "end_time": "2025-03-02T13:49:00.281669Z",
     "start_time": "2025-03-02T13:49:00.275975Z"
    }
   },
   "source": [
    "print(\"1. elokuvan näyttelijät:\")\n",
    "print(dataset['crew'].head(1))"
   ],
   "outputs": [
    {
     "name": "stdout",
     "output_type": "stream",
     "text": [
      "1. elokuvan näyttelijät:\n",
      "0    Michael B. Jordan, Adonis Creed, Tessa Thompson, Bianca Taylor, Jonathan Majors, Damien Anderson, Wood Harris, Tony 'Little Duke' Evers, Phylicia Rashād, Mary Anne Creed, Mila Davis-Kent, Amara Creed, Florian Munteanu, Viktor Drago, José Benavidez Jr., Felix Chavez, Selenis Leyva, Laura Chavez\n",
      "Name: crew, dtype: object\n"
     ]
    }
   ],
   "execution_count": 3
  },
  {
   "cell_type": "code",
   "metadata": {
    "ExecuteTime": {
     "end_time": "2025-03-02T13:49:02.546156Z",
     "start_time": "2025-03-02T13:49:02.496496Z"
    }
   },
   "source": [
    "# Tässä avataan näyttelijät. Näyttelijän hahmo on listattu näyttelijän jälkeen. (esim. Tom Cruise, Ethan Hunt, ...)\n",
    "dataset['crew'] = dataset['crew'].str.split(', ')\n",
    "# Poista joka toinen alkio\n",
    "dataset['crew'] = dataset['crew'].apply(lambda x: x[::2])\n",
    "print(\"1. elokuvan näyttelijät:\")\n",
    "print(dataset['crew'].head(1))"
   ],
   "outputs": [
    {
     "name": "stdout",
     "output_type": "stream",
     "text": [
      "1. elokuvan näyttelijät:\n",
      "0    [Michael B. Jordan, Tessa Thompson, Jonathan Majors, Wood Harris, Phylicia Rashād, Mila Davis-Kent, Florian Munteanu, José Benavidez Jr., Selenis Leyva]\n",
      "Name: crew, dtype: object\n"
     ]
    }
   ],
   "execution_count": 4
  },
  {
   "cell_type": "markdown",
   "metadata": {},
   "source": [
    "Crew -sarake sisältää siis nyt vain näyttelijät ilman hahmoja"
   ]
  },
  {
   "cell_type": "markdown",
   "metadata": {},
   "source": [
    "# Vaihe 4\n",
    "### Aineiston analysointi"
   ]
  },
  {
   "cell_type": "code",
   "execution_count": 37,
   "metadata": {},
   "outputs": [],
   "source": [
    "#  JOKAISESSA ANALYSOINTIKOHDASSA TEHDÄÄN AINEISTOSTA KOPIO, ETTEI MYÖHEMMÄT KOHDAT MUUTU"
   ]
  },
  {
   "cell_type": "markdown",
   "metadata": {},
   "source": [
    "#### Mitkä genret ovat suosittuja milloin"
   ]
  },
  {
   "cell_type": "code",
   "metadata": {
    "jupyter": {
     "is_executing": true
    },
    "ExecuteTime": {
     "start_time": "2025-03-02T13:49:07.907239Z"
    }
   },
   "source": [
    "dataset_genre = dataset.copy()\n",
    "\n",
    "# Extract year from the release date\n",
    "dataset_genre['date_x'] = pd.to_datetime(dataset_genre['date_x'])\n",
    "dataset_genre['year'] = dataset_genre['date_x'].dt.year\n",
    "\n",
    "# Split genres\n",
    "dataset_genre['genre'] = dataset_genre['genre'].str.split(', ')\n",
    "dataset_genre = dataset_genre.explode('genre')\n",
    "\n",
    "# Group by genre and year\n",
    "grouped = dataset_genre.groupby(['genre', dataset_genre['year'].dt.year]).size().unstack()\n",
    "\n",
    "# Plot the results\n",
    "grouped.plot(kind='bar', stacked=True, figsize=(15, 10))\n",
    "plt.title('Poplarity of movie genres over the years')\n",
    "plt.ylabel('Amount of movies')\n",
    "plt.xlabel('Year')\n",
    "plt.legend(title='Genre', bbox_to_anchor=(1.05, 1), loc='upper left')\n",
    "plt.tight_layout()\n",
    "plt.show()"
   ],
   "outputs": [
    {
     "name": "stderr",
     "output_type": "stream",
     "text": [
      "C:\\Users\\aarni\\AppData\\Local\\Temp\\ipykernel_11092\\1485007041.py:19: UserWarning: Tight layout not applied. The bottom and top margins cannot be made large enough to accommodate all Axes decorations.\n",
      "  plt.tight_layout()\n"
     ]
    }
   ],
   "execution_count": null
  },
  {
   "cell_type": "markdown",
   "metadata": {},
   "source": [
    "#### Mikä näyttelijöiden yhdistelmä tuottaa suosittuja elokuvia?"
   ]
  },
  {
   "cell_type": "code",
   "execution_count": null,
   "metadata": {},
   "outputs": [],
   "source": []
  },
  {
   "cell_type": "markdown",
   "metadata": {},
   "source": [
    "#### Korrelaatio arvioiden ja tuoton välillä. Voiko elokuva olla huonosti arvioitu mutta silti tuottoisa tai toisin päin?"
   ]
  },
  {
   "cell_type": "code",
   "execution_count": null,
   "metadata": {},
   "outputs": [],
   "source": []
  },
  {
   "cell_type": "markdown",
   "metadata": {},
   "source": [
    "#### Jos tekisimme elokuvan, millainen sen kannattaa olla, että se on tuottoisa ja suosittu?"
   ]
  },
  {
   "cell_type": "code",
   "execution_count": null,
   "metadata": {},
   "outputs": [],
   "source": [
    "from sklearn.model_selection import train_test_split\n",
    "from sklearn.linear_model import LogisticRegression\n",
    "from sklearn.metrics import accuracy_score, classification_report, confusion_matrix\n",
    "\n",
    "# Copy the dataset\n",
    "dataset_profitable = dataset.copy()\n",
    "\n",
    "# Drop rows with missing values\n",
    "dataset_profitable = dataset_profitable.dropna()\n",
    "dataset_profitable = dataset_profitable[dataset_profitable['score'] != 0.0]\n",
    "\n",
    "# Extract year from the release date\n",
    "dataset_profitable['date_x'] = pd.to_datetime(dataset_profitable['date_x'])\n",
    "dataset_profitable['year'] = dataset_profitable['date_x'].dt.year\n",
    "\n",
    "# Convert categorical variables to dummy variables\n",
    "dataset_profitable = pd.get_dummies(dataset_profitable, columns=['genre', 'country', 'orig_lang'], drop_first=True)\n",
    "\n",
    "# Define the features and target variable\n",
    "X = dataset_profitable.drop(columns=['names', 'date_x', 'overview', 'crew', 'orig_title', 'status', 'revenue'])\n",
    "y = dataset_profitable['revenue'] > dataset_profitable['revenue'].mean()\n",
    "\n",
    "# Split the dataset into a training set and a testing set\n",
    "X_train, X_test, y_train, y_test = train_test_split(X, y, test_size=0.2, random_state=42)\n",
    "\n",
    "# Train\n",
    "model = LogisticRegression(max_iter=1000)\n",
    "model.fit(X_train, y_train)\n",
    "\n",
    "# Predict\n",
    "y_pred = model.predict(X_test)\n",
    "\n",
    "# Evaluate\n",
    "print(\"Logistic Regression Metrics:\")\n",
    "print('Accuracy:', accuracy_score(y_test, y_pred))\n",
    "print('Classification Report:')\n",
    "print(classification_report(y_test, y_pred))\n",
    "print('Confusion Matrix:')\n",
    "print(confusion_matrix(y_test, y_pred))\n",
    "\n"
   ]
  },
  {
   "cell_type": "markdown",
   "metadata": {},
   "source": [
    "# Vaihe 5\n",
    "### Analyysin tulkinta"
   ]
  },
  {
   "cell_type": "markdown",
   "metadata": {},
   "source": [
    "# Vaihe 6\n",
    "### Tulosten hyödyntäminen"
   ]
  },
  {
   "cell_type": "markdown",
   "metadata": {},
   "source": []
  }
 ],
 "metadata": {
  "kernelspec": {
   "display_name": "Python [conda env:base] *",
   "language": "python",
   "name": "conda-base-py"
  },
  "language_info": {
   "codemirror_mode": {
    "name": "ipython",
    "version": 3
   },
   "file_extension": ".py",
   "mimetype": "text/x-python",
   "name": "python",
   "nbconvert_exporter": "python",
   "pygments_lexer": "ipython3",
   "version": "3.12.7"
  }
 },
 "nbformat": 4,
 "nbformat_minor": 4
}
