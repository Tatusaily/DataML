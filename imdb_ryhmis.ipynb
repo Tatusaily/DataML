{
 "cells": [
  {
   "cell_type": "markdown",
   "metadata": {},
   "source": [
    "# Vaihe 1\n",
    "\n",
    "### Kiinnostavat tutkimuskysymykset\n",
    "1. Mitkä genret ovat olleet suosittuja milloin?\n",
    "2. Millaisia ovat suositut näyttelijäparit?\n",
    "3. Korrelaatio arvioiden ja tuoton välillä. Voiko elokuva olla huonosti arvioitu mutta silti tuottoisa tai toisin päin?\n",
    "4. Jos tekisimme elokuvan, millainen sen kannattaa olla, että se on tuottoisa ja suosittu?"
   ]
  },
  {
   "cell_type": "markdown",
   "metadata": {},
   "source": [
    "# Vaihe 2\n",
    "\n",
    "### Aineiston kuvaus\n",
    "Aineisto löydettiin Kagglesta ja se sisältää tietoa elokuvista IMDB palvelussa.\n",
    "\n",
    "Linkki aineistoon: [LINKKI](https://www.kaggle.com/datasets/ashpalsingh1525/imdb-movies-dataset)\n"
   ]
  },
  {
   "cell_type": "code",
   "execution_count": 171,
   "metadata": {
    "ExecuteTime": {
     "end_time": "2025-03-02T13:48:51.692649Z",
     "start_time": "2025-03-02T13:48:51.187004Z"
    }
   },
   "outputs": [
    {
     "name": "stdout",
     "output_type": "stream",
     "text": [
      "Aineiston otsikot:\n",
      "Index(['names', 'date_x', 'score', 'genre', 'overview', 'crew', 'orig_title',\n",
      "       'status', 'orig_lang', 'budget_x', 'revenue', 'country'],\n",
      "      dtype='object')\n",
      "Otsikoiden tyypit:\n",
      "names          object\n",
      "date_x         object\n",
      "score         float64\n",
      "genre          object\n",
      "overview       object\n",
      "crew           object\n",
      "orig_title     object\n",
      "status         object\n",
      "orig_lang      object\n",
      "budget_x      float64\n",
      "revenue       float64\n",
      "country        object\n",
      "dtype: object\n",
      "Aineiston muoto:\n",
      "(10178, 12)\n"
     ]
    }
   ],
   "source": [
    "import numpy as np\n",
    "import matplotlib.pyplot as plt\n",
    "import pandas as pd\n",
    "# set display options\n",
    "pd.set_option('display.max_colwidth', None)\n",
    "\n",
    "dataset = pd.read_csv('Datasets/imdb_movies.csv')\n",
    "\n",
    "# TODO: Fixaa tää silleen et selitetään otsikoiden tarkoitus\n",
    "# Print dataframe columns\n",
    "print(\"Aineiston otsikot:\")\n",
    "print(dataset.columns)\n",
    "print(\"Otsikoiden tyypit:\")\n",
    "print(dataset.dtypes)\n",
    "print(\"Aineiston muoto:\")\n",
    "print(dataset.shape)\n",
    "amount_of_rows_pre = dataset.shape[0]\n"
   ]
  },
  {
   "cell_type": "markdown",
   "metadata": {},
   "source": [
    "#### Aineiston otsikot:\n",
    "- names:        Elokuvan nimi englanniksi\n",
    "- date_x:       Elokuvan julkaisupäivämäärä\n",
    "- score:        IMDB-käyttäjien antaman pistemäärän keskiarvo \n",
    "- genre:        Elokuvan genre\n",
    "- overview:     Elokuvan kuvaus englanniksi\n",
    "- crew:         Elokuvan näyttelijät ja heidän esittämät hahmot. esim. (näyttelijä, hahmo, näyttelijä, hahmo)\n",
    "- orig_title:   Elokuvan nimi alkuperäisellä kielellä\n",
    "- status:       Elokuvan tilanne. (Kaikki havainnot ovat julkaistu)\n",
    "- orig_lang:    Elokuvan alkuperäiskieli\n",
    "- budget_x:     Elokuvan budjetti (USD)\n",
    "- revenue:      Elokuvan bruttotuotto (USD)\n",
    "- country:      Elokuvan julkaisumaa\n",
    "\n",
    "Aineistossa on siis 12 otsikkoa ja 10178 havaintoa.\n",
    "\n",
    "\n",
    "Osa aineiston datasta on epäilyttävää. Esimerkiksi 144 elokuvista on saanut 0.0 arvostelun, ja niiden kaikkien tuotto on tasan $175,269,998.80.\n",
    "Aineistossa on myös 9 elokuvaa 100.0 arvioinnilla, ja niistä jokaisen budjetti on $201,000,000.0 ja tuotto tasan $156,932,3843.8.\n",
    "\n",
    "Aineiston julkaisija on ilmeisesti käyttänyt jotain knn keinoa aineiston täyttämiseen. Tämä täytyy ottaa huomioon myöhemmin.\n",
    "\n"
   ]
  },
  {
   "cell_type": "markdown",
   "metadata": {},
   "source": [
    "# Vaihe 3\n",
    "## Aineiston esikäsittely"
   ]
  },
  {
   "cell_type": "markdown",
   "metadata": {},
   "source": [
    "#### Huonojen havaintojen poisto"
   ]
  },
  {
   "cell_type": "code",
   "execution_count": 172,
   "metadata": {
    "ExecuteTime": {
     "end_time": "2025-03-02T13:48:57.506023Z",
     "start_time": "2025-03-02T13:48:57.481613Z"
    }
   },
   "outputs": [
    {
     "name": "stdout",
     "output_type": "stream",
     "text": [
      "(10044, 12)\n",
      "Poistettu 134 riviä, joissa oli tyhjiä arvoja tai arvostelu oli 0.0 tai 100.0\n"
     ]
    }
   ],
   "source": [
    "# Tässä poistetaan ne havainnot joissa on tyhjiä arvoja tai arvostelu on 0.0\n",
    "dataset = dataset.dropna()\n",
    "dataset = dataset[~dataset['score'].isin([1.0, 100.0])]\n",
    "print(dataset.shape)\n",
    "amount_of_rows_post = dataset.shape[0]\n",
    "print(f\"Poistettu {amount_of_rows_pre - amount_of_rows_post} riviä, joissa oli tyhjiä arvoja tai arvostelu oli 0.0 tai 100.0\")"
   ]
  },
  {
   "cell_type": "markdown",
   "metadata": {},
   "source": [
    "#### Avataan näyttelijät\n",
    "Emme ole kiinnostuneita näyttelijöiden hahmoista, joten poistetaan ne aineistosta."
   ]
  },
  {
   "cell_type": "code",
   "execution_count": 173,
   "metadata": {
    "ExecuteTime": {
     "end_time": "2025-03-02T13:49:00.281669Z",
     "start_time": "2025-03-02T13:49:00.275975Z"
    }
   },
   "outputs": [
    {
     "name": "stdout",
     "output_type": "stream",
     "text": [
      "1. elokuvan näyttelijät:\n",
      "0    Michael B. Jordan, Adonis Creed, Tessa Thompson, Bianca Taylor, Jonathan Majors, Damien Anderson, Wood Harris, Tony 'Little Duke' Evers, Phylicia Rashād, Mary Anne Creed, Mila Davis-Kent, Amara Creed, Florian Munteanu, Viktor Drago, José Benavidez Jr., Felix Chavez, Selenis Leyva, Laura Chavez\n",
      "Name: crew, dtype: object\n"
     ]
    }
   ],
   "source": [
    "print(\"1. elokuvan näyttelijät:\")\n",
    "print(dataset['crew'].head(1))"
   ]
  },
  {
   "cell_type": "code",
   "execution_count": 174,
   "metadata": {
    "ExecuteTime": {
     "end_time": "2025-03-02T13:49:02.546156Z",
     "start_time": "2025-03-02T13:49:02.496496Z"
    }
   },
   "outputs": [
    {
     "name": "stdout",
     "output_type": "stream",
     "text": [
      "1. elokuvan näyttelijät:\n",
      "0    [Michael B. Jordan, Tessa Thompson, Jonathan Majors, Wood Harris, Phylicia Rashād, Mila Davis-Kent, Florian Munteanu, José Benavidez Jr., Selenis Leyva]\n",
      "Name: crew, dtype: object\n"
     ]
    }
   ],
   "source": [
    "# Tässä avataan näyttelijät. Näyttelijän hahmo on listattu näyttelijän jälkeen. (esim. Tom Cruise, Ethan Hunt, ...)\n",
    "dataset['crew'] = dataset['crew'].str.split(', ')\n",
    "# Poista joka toinen alkio\n",
    "dataset['crew'] = dataset['crew'].apply(lambda x: x[::2])\n",
    "print(\"1. elokuvan näyttelijät:\")\n",
    "print(dataset['crew'].head(1))"
   ]
  },
  {
   "cell_type": "markdown",
   "metadata": {},
   "source": [
    "Crew -sarake sisältää siis nyt vain näyttelijät ilman hahmoja"
   ]
  },
  {
   "cell_type": "markdown",
   "metadata": {},
   "source": [
    "# Vaihe 4\n",
    "### Aineiston analysointi"
   ]
  },
  {
   "cell_type": "code",
   "execution_count": 175,
   "metadata": {},
   "outputs": [],
   "source": [
    "#  JOKAISESSA ANALYSOINTIKOHDASSA TEHDÄÄN AINEISTOSTA KOPIO, ETTEI MYÖHEMMÄT KOHDAT MUUTU"
   ]
  },
  {
   "cell_type": "markdown",
   "metadata": {},
   "source": [
    "#### Mitkä genret ovat suosittuja milloin"
   ]
  },
  {
   "cell_type": "code",
   "execution_count": 176,
   "metadata": {
    "ExecuteTime": {
     "start_time": "2025-03-02T13:49:07.907239Z"
    },
    "jupyter": {
     "is_executing": true
    }
   },
   "outputs": [
    {
     "name": "stdout",
     "output_type": "stream",
     "text": [
      "Found 19 unique genres\n",
      "   year  Action  Adventure  Animation  Comedy  Crime  Documentary  Drama  \\\n",
      "0  2023       1          0          0       0      0            0      1   \n",
      "1  2022       1          1          0       0      0            0      0   \n",
      "2  2023       0          1          1       1      0            0      0   \n",
      "3  2023       0          1          1       1      0            0      0   \n",
      "4  2023       1          0          0       0      0            0      0   \n",
      "\n",
      "   Family  Fantasy  History  Horror  Music  Mystery  Romance  Science Fiction  \\\n",
      "0       0        0        0       0      0        0        0                0   \n",
      "1       0        0        0       0      0        0        0                1   \n",
      "2       1        1        0       0      0        0        0                0   \n",
      "3       1        1        0       0      0        0        0                0   \n",
      "4       0        0        0       0      0        0        0                0   \n",
      "\n",
      "   TV Movie  Thriller  War  Western  \n",
      "0         0         0    0        0  \n",
      "1         0         0    0        0  \n",
      "2         0         0    0        0  \n",
      "3         0         0    0        0  \n",
      "4         0         0    0        0  \n",
      "(10044, 20)\n"
     ]
    },
    {
     "data": {
      "image/png": "[encoded data removed]",
      "text/plain": [
       "<Figure size 2000x1000 with 1 Axes>"
      ]
     },
     "metadata": {},
     "output_type": "display_data"
    }
   ],
   "source": [
    "dataset_genre = dataset.copy()\n",
    "\n",
    "# Drop description column\n",
    "dataset_genre = dataset_genre.drop(columns=['overview'])\n",
    "\n",
    "# Extract year from the release date\n",
    "dataset_genre['date_x'] = pd.to_datetime(dataset_genre['date_x'])\n",
    "dataset_genre['year'] = dataset_genre['date_x'].dt.year\n",
    "\n",
    "# Extract all individual genres from the genre column\n",
    "all_genres = []\n",
    "for genre_string in dataset_genre['genre']:\n",
    "    # Split on comma and remove any non-standard whitespace\n",
    "    genres = [g.strip() for g in genre_string.split(',')]\n",
    "    all_genres.extend(genres)\n",
    "\n",
    "# Get unique genres and sort them\n",
    "unique_genres = sorted(list(set(all_genres)))\n",
    "print(f\"Found {len(unique_genres)} unique genres\")\n",
    "\n",
    "# Create a new dataframe with a column for each genre\n",
    "genres = pd.DataFrame(index=dataset_genre.index)\n",
    "for genre in unique_genres:\n",
    "    genres[genre] = dataset_genre['genre'].apply(lambda x: 1 if genre in x else 0)\n",
    "\n",
    "# Join the original dataset with the genre dataframe\n",
    "dataset_genre = dataset_genre.join(genres)\n",
    "\n",
    "# Drop unnecessary columns\n",
    "dataset_genre = dataset_genre.drop(columns=['genre', 'crew', 'names', 'orig_title', 'status', 'orig_lang', 'budget_x', 'score', 'date_x', 'revenue', 'country'])\n",
    "\n",
    "# Print the first few rows of the dataset\n",
    "print(dataset_genre.head())\n",
    "print(dataset_genre.shape)\n",
    "\n",
    "# Change the year of a movie to the decade it was released in\n",
    "for row in dataset_genre.itertuples():\n",
    "    dataset_genre.at[row.Index, 'year'] = row.year - (row.year % 10)\n",
    "\n",
    "\n",
    "# --- PLOT ---\n",
    "# Group by decade and sum the genre columns\n",
    "dataset_genre = dataset_genre.groupby('year').sum()\n",
    "\n",
    "# Create a colormap for the genres\n",
    "colormap = plt.cm.tab20\n",
    "\n",
    "# Plot the data\n",
    "plt.figure(figsize=(20, 10))\n",
    "bar_width = 0.75 / len(dataset_genre.columns)\n",
    "x = np.arange(len(dataset_genre.index))\n",
    "\n",
    "for i, genre in enumerate(dataset_genre.columns):\n",
    "    plt.bar(x + i * bar_width, dataset_genre[genre], \n",
    "            width=bar_width, label=genre, color=colormap(i % 20))\n",
    "\n",
    "plt.xticks(x + bar_width * len(dataset_genre.columns) / 2 - bar_width/2, dataset_genre.index)\n",
    "plt.legend(loc='upper left', ncol=2)\n",
    "plt.title('Movies by genre and decade')\n",
    "plt.xlabel('Decade')\n",
    "plt.ylabel('Number of movies')\n",
    "plt.yscale('log')\n",
    "plt.tight_layout()\n",
    "plt.show()"
   ]
  },
  {
   "cell_type": "markdown",
   "metadata": {},
   "source": [
    "##### Analyysi:\n",
    "Kaavio on logaritminen. Voidaan päätellä, että ylipäänsä elokuvien määrä on lisääntynyt vuosien saatossa. 2010 -vuonna elokuvia tehtiin noin 1000 -kertainen määrä vuoteen 1900 verrattuna. Myös genrejen kirjo on kasvanut."
   ]
  },
  {
   "cell_type": "markdown",
   "metadata": {},
   "source": [
    "#### Millaisia ovat suositut näyttelijäparit?"
   ]
  },
  {
   "cell_type": "code",
   "execution_count": 179,
   "metadata": {},
   "outputs": [
    {
     "name": "stdout",
     "output_type": "stream",
     "text": [
      "Found 19 unique genres\n",
      "Analyzing actor combinations and their impact on movies...\n",
      "\n",
      "Top 20 actor combinations by average score:\n",
      "Al Pacino         Robert Duvall       86.500000\n",
      "Robert Duvall     Diane Keaton        86.500000\n",
      "Marlon Brando     Robert Duvall       85.000000\n",
      "Elijah Wood       Andy Serkis         84.500000\n",
      "                  Bernard Hill        84.500000\n",
      "Ian McKellen      Bernard Hill        84.500000\n",
      "Liv Tyler         Andy Serkis         84.500000\n",
      "                  Bernard Hill        84.500000\n",
      "Viggo Mortensen   Andy Serkis         84.500000\n",
      "                  Bernard Hill        84.500000\n",
      "Sean Astin        Andy Serkis         84.500000\n",
      "                  Bernard Hill        84.500000\n",
      "Andy Serkis       John Rhys-Davies    84.500000\n",
      "                  Bernard Hill        84.500000\n",
      "Cate Blanchett    Bernard Hill        84.500000\n",
      "John Rhys-Davies  Bernard Hill        84.500000\n",
      "Robert Duvall     G. D. Spradlin      84.500000\n",
      "Elijah Wood       Ian McKellen        84.333333\n",
      "                  Liv Tyler           84.333333\n",
      "                  Viggo Mortensen     84.333333\n",
      "dtype: float64\n",
      "\n",
      "Best actor combination: Al Pacino and Robert Duvall with average score: 86.5\n",
      "\n",
      "Found 17867 actor pairs that appear in multiple movies together\n",
      "\n",
      "Top 10 actor pairs by number of movies together:\n",
      "Frank Welker and Grey DeLisle: 33 movies together\n",
      "  Average score: 75.5\n",
      "  Average revenue: $692.2M\n",
      "  Average budget: $126.7M\n",
      "Ikue Otani and Megumi Hayashibara: 30 movies together\n",
      "  Average score: 67.4\n",
      "  Average revenue: $244.4M\n",
      "  Average budget: $68.7M\n",
      "Ikue Otani and Rica Matsumoto: 25 movies together\n",
      "  Average score: 67.4\n",
      "  Average revenue: $244.4M\n",
      "  Average budget: $68.7M\n",
      "Minami Takayama and Wakana Yamazaki: 25 movies together\n",
      "  Average score: 64.0\n",
      "  Average revenue: $362.6M\n",
      "  Average budget: $99.1M\n",
      "Frank Welker and Matthew Lillard: 24 movies together\n",
      "  Average score: 75.8\n",
      "  Average revenue: $673.9M\n",
      "  Average budget: $127.6M\n",
      "Grey DeLisle and Matthew Lillard: 24 movies together\n",
      "  Average score: 73.0\n",
      "  Average revenue: $521.1M\n",
      "  Average budget: $121.1M\n",
      "Megumi Hayashibara and Rica Matsumoto: 24 movies together\n",
      "  Average score: 73.0\n",
      "  Average revenue: $521.1M\n",
      "  Average budget: $121.1M\n",
      "Inuko Inuyama and Rica Matsumoto: 24 movies together\n",
      "  Average score: 73.0\n",
      "  Average revenue: $521.1M\n",
      "  Average budget: $121.1M\n",
      "Ikue Otani and Shin-ichiro Miki: 24 movies together\n",
      "  Average score: 67.3\n",
      "  Average revenue: $253.1M\n",
      "  Average budget: $69.4M\n",
      "Ikue Otani and Inuko Inuyama: 24 movies together\n",
      "  Average score: 67.4\n",
      "  Average revenue: $244.4M\n",
      "  Average budget: $68.7M\n",
      "\n",
      "Actor pairs appearing in at least 5 movies together: 542\n",
      "Top actor pairs by average score:\n",
      "                actor1              actor2  count  average_score\n",
      "310     Robert De Niro           Joe Pesci      5           81.0\n",
      "322      Yuko Miyamura    Yuriko Yamaguchi      5           79.0\n",
      "18        Mark Ruffalo  Scarlett Johansson      5           78.6\n",
      "17     Chris Hemsworth  Scarlett Johansson      5           78.6\n",
      "14   Robert Downey Jr.         Chris Evans      5           78.6\n",
      "43        Rupert Grint      Michael Gambon      6           78.5\n",
      "44         Emma Watson      Michael Gambon      6           78.5\n",
      "325   Kotono Mitsuishi    Yuriko Yamaguchi      6           78.5\n",
      "42    Daniel Radcliffe      Michael Gambon      6           78.5\n",
      "321       Megumi Ogata    Yuriko Yamaguchi      6           78.5\n",
      "\n",
      "Analyzing how actors correlate with genres...\n",
      "\n",
      "Top actors by genre:\n",
      "Action: Jackie Chan, Bruce Willis, Nicolas Cage, Mayumi Tanaka, Samuel L. Jackson\n",
      "Adventure: Ikue Otani, Frank Welker, Megumi Hayashibara, Grey DeLisle, Kappei Yamaguchi\n",
      "Animation: Frank Welker, Megumi Hayashibara, Grey DeLisle, Ikue Otani, Jeff Bennett\n",
      "Comedy: Frank Welker, Jackie Chan, Adam Sandler, Grey DeLisle, Eddie Murphy\n",
      "Crime: Bruce Willis, Robert De Niro, Samuel L. Jackson, Morgan Freeman, Jason Statham\n",
      "Documentary: Johnny Knoxville, Steve-O, Chris Pontius, Jason Acuña, Preston Lacy\n",
      "Drama: Robert De Niro, Tom Hanks, Keanu Reeves, Christian Bale, Matt Damon\n",
      "Family: Frank Welker, Grey DeLisle, Jeff Bennett, Jim Cummings, Tara Strong\n",
      "Fantasy: Ikue Otani, Megumi Hayashibara, Shin-ichiro Miki, Frank Welker, Rica Matsumoto\n",
      "History: Liam Neeson, Benedict Cumberbatch, Tom Hanks, Robert De Niro, Christian Bale\n",
      "Horror: Jamie Lee Curtis, Robert Englund, David Arquette, Lin Shaye, Chloë Grace Moretz\n",
      "Music: Vanessa Hudgens, Sofia Carson, Cathy Weseluck, Ashleigh Ball, Anna Kendrick\n",
      "Mystery: Frank Welker, Grey DeLisle, Matthew Lillard, Minami Takayama, Wakana Yamazaki\n",
      "Romance: Min Do-yoon, Kang Min-woo, Lee Chae-dam, Ahn So-hee, Yoo Jung\n",
      "Science Fiction: Masako Nozawa, Megumi Hayashibara, Fred Tatasciore, Keanu Reeves, Scarlett Johansson\n",
      "TV Movie: Ashley Tisdale, John DiMaggio, Dee Bradley Baker, Jeff Bennett, Sofia Carson\n",
      "Thriller: Bruce Willis, Nicolas Cage, Jason Statham, Samuel L. Jackson, Morgan Freeman\n",
      "War: Brad Pitt, Brendan Gleeson, Tom Sizemore, Thomas Kretschmann, Zhang Hanyu\n",
      "Western: John Wayne, Clint Eastwood, Kevin Costner, Bruce Dern, Tim Blake Nelson\n"
     ]
    }
   ],
   "source": [
    "from itertools import combinations\n",
    "from collections import Counter\n",
    "from collections import defaultdict\n",
    "import pandas as pd\n",
    "import numpy as np\n",
    "\n",
    "# Kopioidaan aineisto \n",
    "dataset_actors = dataset.copy()\n",
    "\n",
    "# Extract all individual genres from the genre column\n",
    "all_genres = []\n",
    "for genre_string in dataset_actors['genre']:\n",
    "    # Split on comma and remove any non-standard whitespace\n",
    "    genres = [g.strip() for g in genre_string.split(',')]\n",
    "    all_genres.extend(genres)\n",
    "\n",
    "# Get unique genres and sort them\n",
    "unique_genres = sorted(list(set(all_genres)))\n",
    "print(f\"Found {len(unique_genres)} unique genres\")\n",
    "\n",
    "# Create a new dataframe with a column for each genre\n",
    "genres = pd.DataFrame(index=dataset_actors.index)\n",
    "for genre in unique_genres:\n",
    "    genres[genre] = dataset_actors['genre'].apply(lambda x: 1 if genre in x else 0)\n",
    "\n",
    "# Join the original dataset with the genre dataframe\n",
    "dataset_actors = dataset_actors.join(genres)\n",
    "\n",
    "# Drop unnecessary columns\n",
    "dataset_actors = dataset_actors.drop(columns=['names', 'orig_title', 'status', 'orig_lang', 'date_x', 'overview', 'genre'])\n",
    "# Analyzing actor combinations and their impact on movie metrics\n",
    "print(\"Analyzing actor combinations and their impact on movies...\")\n",
    "\n",
    "import matplotlib.pyplot as plt\n",
    "\n",
    "# Create a dictionary to store the average score for each actor combination\n",
    "actor_scores = defaultdict(list)\n",
    "\n",
    "# Iterate through each row in the dataset\n",
    "for _, row in dataset_actors.iterrows():\n",
    "    crew = row['crew']\n",
    "    score = row['score']\n",
    "    revenue = row['revenue']\n",
    "    budget = row['budget_x']\n",
    "    country = row.get('country', '')  # Get country info if available\n",
    "    \n",
    "    # Skip Korean films\n",
    "    if country in ['KR', 'South Korea', 'Korea']:\n",
    "        continue\n",
    "    \n",
    "    # Get all possible pairs of actors in the crew\n",
    "    actor_combinations = list(combinations(crew, 2))\n",
    "    \n",
    "    # Store the score for each actor combination\n",
    "    for combo in actor_combinations:\n",
    "        actor_scores[combo].append({'score': score, 'revenue': revenue, 'budget': budget})\n",
    "\n",
    "# Calculate the average score for each actor combination\n",
    "actor_combination_scores = {}\n",
    "for combo, movies in actor_scores.items():\n",
    "    if len(movies) >= 2:  # Only consider combinations that appear in at least 2 movies\n",
    "        avg_score = sum(movie['score'] for movie in movies) / len(movies)\n",
    "        actor_combination_scores[combo] = avg_score\n",
    "\n",
    "# Convert to pandas Series for easier analysis\n",
    "actor_combination_scores = pd.Series(actor_combination_scores)\n",
    "\n",
    "# Find top actor combinations by score\n",
    "top_combinations = actor_combination_scores.nlargest(20)\n",
    "print(\"\\nTop 20 actor combinations by average score:\")\n",
    "print(top_combinations)\n",
    "\n",
    "# Find best actor pair\n",
    "best_combo = top_combinations.index[0]\n",
    "best_score = top_combinations.iloc[0]\n",
    "print(f\"\\nBest actor combination: {best_combo[0]} and {best_combo[1]} with average score: {best_score:.1f}\")\n",
    "\n",
    "# Calculate how many times each actor pair appears together\n",
    "actor_pair_counts = Counter(tuple(sorted(pair)) for _, row in dataset_actors.iterrows() \n",
    "                           for pair in combinations(row['crew'], 2))\n",
    "\n",
    "# Find actor pairs that appear in multiple movies together\n",
    "frequent_pairs = {pair: count for pair, count in actor_pair_counts.items() if count > 1}\n",
    "print(f\"\\nFound {len(frequent_pairs)} actor pairs that appear in multiple movies together\")\n",
    "\n",
    "# Get the top 10 most frequent actor pairs\n",
    "top_10_pairs = sorted(frequent_pairs.items(), key=lambda x: x[1], reverse=True)[:10]\n",
    "print(\"\\nTop 10 actor pairs by number of movies together:\")\n",
    "for pair, count in top_10_pairs:\n",
    "    # Check if the pair exists in actor_scores and has movies before calculating averages\n",
    "    if pair in actor_scores and len(actor_scores[pair]) > 0:\n",
    "        avg_metrics = {\n",
    "            'score': sum(movie['score'] for movie in actor_scores[pair]) / len(actor_scores[pair]),\n",
    "            'revenue': sum(movie['revenue'] for movie in actor_scores[pair]) / len(actor_scores[pair]),\n",
    "            'budget': sum(movie['budget'] for movie in actor_scores[pair]) / len(actor_scores[pair])\n",
    "        }\n",
    "    print(f\"{pair[0]} and {pair[1]}: {count} movies together\")\n",
    "    print(f\"  Average score: {avg_metrics['score']:.1f}\")\n",
    "    print(f\"  Average revenue: ${avg_metrics['revenue']/1000000:.1f}M\")\n",
    "    print(f\"  Average budget: ${avg_metrics['budget']/1000000:.1f}M\")\n",
    "\n",
    "# Create a dataframe for detailed analysis of actor pairs with minimum occurrences\n",
    "min_occurrences = 5\n",
    "actor_pair_combined = pd.DataFrame([\n",
    "    {\n",
    "        'actor1': combo[0],\n",
    "        'actor2': combo[1],\n",
    "        'count': len(movies),\n",
    "        'success_count': sum(1 for movie in movies if movie['score'] > dataset_actors['score'].mean()),\n",
    "        'average_score': sum(movie['score'] for movie in movies) / len(movies)\n",
    "    }\n",
    "    for combo, movies in actor_scores.items()\n",
    "    if len(movies) >= min_occurrences\n",
    "])\n",
    "\n",
    "print(f\"\\nActor pairs appearing in at least {min_occurrences} movies together: {len(actor_pair_combined)}\")\n",
    "print(\"Top actor pairs by average score:\")\n",
    "print(actor_pair_combined.sort_values('average_score', ascending=False).head(10)[['actor1', 'actor2', 'count', 'average_score']])\n",
    "\n",
    "# Analyze how actor combinations correlate with genres\n",
    "print(\"\\nAnalyzing how actors correlate with genres...\")\n",
    "actor_genre_counts = {}\n",
    "\n",
    "for _, row in dataset_actors.iterrows():\n",
    "    crew = row['crew']\n",
    "    # Since genre is now one-hot encoded, we need to get genre names differently\n",
    "    genres = [col for col in unique_genres if row.get(col, 0) == 1]\n",
    "    \n",
    "    for actor in crew:\n",
    "        if actor not in actor_genre_counts:\n",
    "            actor_genre_counts[actor] = Counter()\n",
    "        for genre in genres:\n",
    "            actor_genre_counts[actor][genre] += 1\n",
    "\n",
    "# Find actors who specialize in specific genres\n",
    "top_actors_by_genre = {}\n",
    "for genre in unique_genres:\n",
    "    top_actors = sorted([(actor, counts[genre]) for actor, counts in actor_genre_counts.items() if genre in counts], \n",
    "                        key=lambda x: x[1], reverse=True)[:5]\n",
    "    if top_actors:  # Check if there are any actors for this genre\n",
    "        top_actors_by_genre[genre] = top_actors\n",
    "\n",
    "print(\"\\nTop actors by genre:\")\n",
    "for genre, actors in top_actors_by_genre.items():\n",
    "    if actors:  # Check if there are any actors for this genre\n",
    "        print(f\"{genre}: {', '.join([actor for actor, _ in actors])}\")\n",
    "\n",
    "\n",
    "\n",
    "\n",
    "\n",
    "\n",
    "\n",
    "\n",
    "\n"
   ]
  },
  {
   "cell_type": "markdown",
   "metadata": {},
   "source": [
    "#### Korrelaatio arvioiden ja tuoton välillä. Voiko elokuva olla huonosti arvioitu mutta silti tuottoisa tai toisin päin?"
   ]
  },
  {
   "cell_type": "code",
   "execution_count": 178,
   "metadata": {},
   "outputs": [
    {
     "ename": "ModuleNotFoundError",
     "evalue": "No module named 'seaborn'",
     "output_type": "error",
     "traceback": [
      "\u001b[31m---------------------------------------------------------------------------\u001b[39m",
      "\u001b[31mModuleNotFoundError\u001b[39m                       Traceback (most recent call last)",
      "\u001b[36mCell\u001b[39m\u001b[36m \u001b[39m\u001b[32mIn[178]\u001b[39m\u001b[32m, line 3\u001b[39m\n\u001b[32m      1\u001b[39m \u001b[38;5;28;01mimport\u001b[39;00m\u001b[38;5;250m \u001b[39m\u001b[34;01mpandas\u001b[39;00m\u001b[38;5;250m \u001b[39m\u001b[38;5;28;01mas\u001b[39;00m\u001b[38;5;250m \u001b[39m\u001b[34;01mpd\u001b[39;00m\n\u001b[32m      2\u001b[39m \u001b[38;5;28;01mimport\u001b[39;00m\u001b[38;5;250m \u001b[39m\u001b[34;01mmatplotlib\u001b[39;00m\u001b[34;01m.\u001b[39;00m\u001b[34;01mpyplot\u001b[39;00m\u001b[38;5;250m \u001b[39m\u001b[38;5;28;01mas\u001b[39;00m\u001b[38;5;250m \u001b[39m\u001b[34;01mplt\u001b[39;00m\n\u001b[32m----> \u001b[39m\u001b[32m3\u001b[39m \u001b[38;5;28;01mimport\u001b[39;00m\u001b[38;5;250m \u001b[39m\u001b[34;01mseaborn\u001b[39;00m\u001b[38;5;250m \u001b[39m\u001b[38;5;28;01mas\u001b[39;00m\u001b[38;5;250m \u001b[39m\u001b[34;01msns\u001b[39;00m\n\u001b[32m      6\u001b[39m \u001b[38;5;66;03m# Kopioi aineisto\u001b[39;00m\n\u001b[32m      7\u001b[39m dataset_correlation = dataset.copy()\n",
      "\u001b[31mModuleNotFoundError\u001b[39m: No module named 'seaborn'"
     ]
    }
   ],
   "source": [
    "import pandas as pd\n",
    "import matplotlib.pyplot as plt\n",
    "import seaborn as sns\n",
    "\n",
    "\n",
    "# Kopioi aineisto\n",
    "dataset_correlation = dataset.copy()\n",
    "\n",
    "# Laske profit ja ROI\n",
    "dataset_correlation['profit'] = dataset_correlation['revenue'] - dataset_correlation['budget_x']\n",
    "dataset_correlation['roi'] = dataset_correlation['profit'] / dataset_correlation['budget_x']\n",
    "# poista ylimääräiset välilyönnit\n",
    "dataset_correlation['genre'] = dataset_correlation['genre'].str.strip().str.split(r'\\s*,\\s*')\n",
    "# Erotellaan genret erillisiksi riveiksi\n",
    "df = dataset_correlation.explode('genre')\n",
    "genre_stats = df.groupby('genre')[['score', 'profit']].mean().sort_values(by='profit', ascending=True)\n",
    "# Tulostetaan tulos\n",
    "print(genre_stats)\n",
    "\n",
    "# Laske keskiarvot\n",
    "mean_score = dataset['score'].mean()\n",
    "mean_revenue = dataset['revenue'].mean()\n",
    "\n",
    "# Luo kategoriat\n",
    "dataset['category'] = 'Muu'\n",
    "dataset.loc[(dataset['score'] < mean_score) & (dataset['revenue'] > mean_revenue), 'category'] = 'Huonosti arvioitu, mutta tuottoisa'\n",
    "dataset.loc[(dataset['score'] > mean_score) & (dataset['revenue'] < mean_revenue), 'category'] = 'Hyvin arvioitu, mutta vähän tuottoa'\n",
    "\n",
    "# Poista 'Muu' kategoria\n",
    "filtered_dataset = dataset[dataset['category'] != 'Muu']\n",
    "# Tulosta kategorioiden jakauma\n",
    "print(filtered_dataset['category'].value_counts())\n",
    "\n",
    "# Visualisoi kategoriat\n",
    "plt.figure(figsize=(10, 6))\n",
    "sns.scatterplot(x='score', y='revenue', hue='category', data=filtered_dataset, palette='Set1', alpha=0.7)\n",
    "plt.axhline(mean_revenue, color='red', linestyle='--', label='Keskiarvo (tuotto)')\n",
    "plt.axvline(mean_score, color='blue', linestyle='--', label='Keskiarvo (arvosana)')\n",
    "plt.title('Elokuvien luokittelu arvioiden ja tuoton mukaan')\n",
    "plt.xlabel('IMDB-arvosana')\n",
    "plt.ylabel('Tuotto (USD)')\n",
    "plt.legend()\n",
    "plt.show()"
   ]
  },
  {
   "cell_type": "code",
   "execution_count": null,
   "metadata": {},
   "outputs": [
    {
     "name": "stdout",
     "output_type": "stream",
     "text": [
      "Huonosti arvioitu, mutta tuottoisin elokuva:\n",
      "Arvosana: 44.0\n",
      "Tuotto: 1515100211.0 USD\n",
      "Nimi: The Avengers\n",
      "\n",
      "\n",
      "Hyvin arvioitu, mutta vähiten tuottoinen elokuva:\n",
      "Arvosana: 78.0\n",
      "Tuotto: 0.0 USD\n",
      "Nimi: Prey\n"
     ]
    }
   ],
   "source": [
    "# Huonosti arvioitu, mutta tuottoisin elokuva\n",
    "max_revenue_low_score = dataset[dataset['category'] == 'Huonosti arvioitu, mutta tuottoisa'].nlargest(1, 'revenue')\n",
    "\n",
    "print(\"Huonosti arvioitu, mutta tuottoisin elokuva:\")\n",
    "print(f\"Arvosana: {max_revenue_low_score['score'].values[0]}\")\n",
    "print(f\"Tuotto: {max_revenue_low_score['revenue'].values[0]} USD\")\n",
    "print(f\"Nimi: {max_revenue_low_score['names'].values[0]}\")\n",
    "print(\"\\n\")\n",
    "\n",
    "# Etsi \"Hyvin arvioitu, mutta vähiten tuottoinen elokuva\"\n",
    "min_revenue_high_score = dataset[dataset['category'] == 'Hyvin arvioitu, mutta vähän tuottoa'].nsmallest(1, 'revenue')\n",
    "\n",
    "\n",
    "print(\"Hyvin arvioitu, mutta vähiten tuottoinen elokuva:\")\n",
    "print(f\"Arvosana: {min_revenue_high_score['score'].values[0]}\")\n",
    "print(f\"Tuotto: {min_revenue_high_score['revenue'].values[0]} USD\")\n",
    "print(f\"Nimi: {min_revenue_high_score['names'].values[0]}\")"
   ]
  },
  {
   "cell_type": "markdown",
   "metadata": {},
   "source": [
    "#### Mitä visualisaatiosta voi lukea?\n",
    "Huonosti arvioitu, mutta tuottoisa:\n",
    "Nämä elokuvat saavat huonoja arvosanoja, mutta ne tuottavat silti paljon rahaa. Tämä voi viitata siihen, että elokuva on kaupallisesti menestys, mutta ihmiset eivät pitäneet siitä.\n",
    "\n",
    "Hyvin arvioitu, mutta vähän tuottoa:\n",
    "\n",
    "Nämä elokuvat saavat hyviä arvosanoja, mutta ne eivät tuota paljon rahaa. Tämä voi tarkoittaa, että elokuva on arvostettu ihmiseten keskuudessa, mutta se ei ole saavuttanut laajaa yleisöä."
   ]
  },
  {
   "cell_type": "markdown",
   "metadata": {},
   "source": [
    "#### Jos tekisimme elokuvan, millainen sen kannattaa olla, että se on tuottoisa ja suosittu?"
   ]
  },
  {
   "cell_type": "code",
   "execution_count": null,
   "metadata": {},
   "outputs": [
    {
     "name": "stdout",
     "output_type": "stream",
     "text": [
      "Logistic Regression Metrics:\n",
      "Accuracy: 0.8604651162790697\n",
      "Classification Report:\n",
      "              precision    recall  f1-score   support\n",
      "\n",
      "       False       0.87      0.89      0.88      1141\n",
      "        True       0.85      0.82      0.83       837\n",
      "\n",
      "    accuracy                           0.86      1978\n",
      "   macro avg       0.86      0.85      0.86      1978\n",
      "weighted avg       0.86      0.86      0.86      1978\n",
      "\n",
      "Confusion Matrix:\n",
      "[[1019  122]\n",
      " [ 154  683]]\n"
     ]
    }
   ],
   "source": [
    "from sklearn.model_selection import train_test_split\n",
    "from sklearn.linear_model import LogisticRegression\n",
    "from sklearn.metrics import accuracy_score, classification_report, confusion_matrix\n",
    "\n",
    "# Copy the dataset\n",
    "dataset_profitable = dataset.copy()\n",
    "\n",
    "# Drop rows with missing values\n",
    "dataset_profitable = dataset_profitable.dropna()\n",
    "dataset_profitable = dataset_profitable[dataset_profitable['score'] != 0.0]\n",
    "\n",
    "# Extract year from the release date\n",
    "dataset_profitable['date_x'] = pd.to_datetime(dataset_profitable['date_x'])\n",
    "dataset_profitable['year'] = dataset_profitable['date_x'].dt.year\n",
    "\n",
    "# Convert categorical variables to dummy variables\n",
    "dataset_profitable = pd.get_dummies(dataset_profitable, columns=['genre', 'country', 'orig_lang'], drop_first=True)\n",
    "\n",
    "# Define the features and target variable\n",
    "X = dataset_profitable.drop(columns=['names', 'date_x', 'overview', 'crew', 'orig_title', 'status', 'revenue'])\n",
    "y = dataset_profitable['revenue'] > dataset_profitable['revenue'].mean()\n",
    "\n",
    "# Split the dataset into a training set and a testing set\n",
    "X_train, X_test, y_train, y_test = train_test_split(X, y, test_size=0.2, random_state=42)\n",
    "\n",
    "# Train\n",
    "model = LogisticRegression(max_iter=1000)\n",
    "model.fit(X_train, y_train)\n",
    "\n",
    "# Predict\n",
    "y_pred = model.predict(X_test)\n",
    "\n",
    "# Evaluate\n",
    "print(\"Logistic Regression Metrics:\")\n",
    "print('Accuracy:', accuracy_score(y_test, y_pred))\n",
    "print('Classification Report:')\n",
    "print(classification_report(y_test, y_pred))\n",
    "print('Confusion Matrix:')\n",
    "print(confusion_matrix(y_test, y_pred))\n",
    "\n"
   ]
  },
  {
   "cell_type": "markdown",
   "metadata": {},
   "source": [
    "# Vaihe 5\n",
    "### Analyysin tulkinta"
   ]
  },
  {
   "cell_type": "markdown",
   "metadata": {},
   "source": [
    "# Vaihe 6\n",
    "### Tulosten hyödyntäminen"
   ]
  },
  {
   "cell_type": "markdown",
   "metadata": {},
   "source": []
  }
 ],
 "metadata": {
  "kernelspec": {
   "display_name": "Python 3",
   "language": "python",
   "name": "python3"
  },
  "language_info": {
   "codemirror_mode": {
    "name": "ipython",
    "version": 3
   },
   "file_extension": ".py",
   "mimetype": "text/x-python",
   "name": "python",
   "nbconvert_exporter": "python",
   "pygments_lexer": "ipython3",
   "version": "3.13.1"
  }
 },
 "nbformat": 4,
 "nbformat_minor": 4
}
